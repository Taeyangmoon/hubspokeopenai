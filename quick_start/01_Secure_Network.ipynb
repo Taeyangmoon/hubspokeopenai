{
 "cells": [
  {
   "cell_type": "markdown",
   "metadata": {},
   "source": [
    "# 1단계: 네트워크 인프라 구성\n",
    "\n",
    "### 1.1 On-premise VNET 생성\n",
    "\n",
    "**Azure Portal:**\n",
    "\n",
    "1.  Azure Portal에 로그인합니다.\n",
    "2.  \"Create a resource\"를 클릭합니다. (예시 스크린샷: \"+\" 버튼 클릭)\n",
    "3.  \"Virtual network\"을 검색하여 선택하고 \"Create\"를 클릭합니다. (예시 스크린샷: 검색창에 \"Virtual network\" 입력 후 선택)\n",
    "4.  다음 정보를 입력하고 \"Review + create\"를 클릭합니다.\n",
    "    -   Subscription: 사용 중인 Azure 구독을 선택합니다.\n",
    "    -   Resource group: \"secu-ai-workshop\"을 선택합니다.\n",
    "    -   Name: \"onprem-vnet\"\n",
    "    -   Region: \"Korea Central\"\n",
    "    -   IP Addresses 탭에서 Address space를 \"192.168.0.0/16\"으로 설정합니다.\n",
    "    -   Subnets 탭에서 다음 서브넷을 추가합니다.\n",
    "        -   onprem-subnet: 192.168.1.0/24\n",
    "        -   GatewaySubnet: 192.168.0.0/24 (주의: GatewaySubnet 이름은 변경 불가)\n",
    "5.  \"Create\"를 클릭하여 VNET 생성을 완료합니다."
   ]
  },
  {
   "cell_type": "code",
   "execution_count": null,
   "metadata": {},
   "outputs": [],
   "source": [
    "# Azure CLI 로그인\n",
    "# 이 스크립트는 Azure CLI에 로그인하는 데 사용됩니다.\n",
    "# 이 명령어는 터미널에서 직접 수행하고 그 다음부터는 shell에서 Azure CLI를 사용할 수 있습니다.\n",
    "# 터미널에서 수행할 때에는 !없이 수행합니다.\n",
    "\n",
    "!az login"
   ]
  },
  {
   "cell_type": "code",
   "execution_count": null,
   "metadata": {},
   "outputs": [],
   "source": [
    "# Azure CLI 버전 확인\n",
    "# azure-cli 2.71.0 이상의 버전을 사용할 것을 권장합니다.\n",
    "!az version"
   ]
  },
  {
   "cell_type": "code",
   "execution_count": null,
   "metadata": {},
   "outputs": [],
   "source": [
    "# 리소스 그룹 생성\n",
    "RESOURCE_GROUP=\"secu-ai-workshop\"\n",
    "LOCATION=\"koreacentral\""
   ]
  },
  {
   "cell_type": "code",
   "execution_count": null,
   "metadata": {},
   "outputs": [],
   "source": [
    "# 리소스 그룹 생성\n",
    "\n",
    "!az group create --name $RESOURCE_GROUP --location $LOCATION"
   ]
  },
  {
   "cell_type": "code",
   "execution_count": null,
   "metadata": {},
   "outputs": [],
   "source": [
    "# 변수 설정\n",
    "ONPREM_VNET_NAME=\"onprem-vnet\"\n",
    "ONPREM_ADDRESS_PREFIX=\"192.168.0.0/16\"\n",
    "ONPREM_SUBNET_NAME=\"onprem-subnet\"\n",
    "ONPREM_SUBNET_PREFIX=\"192.168.1.0/24\"\n",
    "GATEWAY_SUBNET_NAME=\"GatewaySubnet\" # GatewaySubnet 이름은 고정\n",
    "GATEWAY_SUBNET_PREFIX=\"192.168.0.0/24\""
   ]
  },
  {
   "cell_type": "code",
   "execution_count": null,
   "metadata": {},
   "outputs": [],
   "source": [
    "# On-premise VNET 생성\n",
    "!az network vnet create \\\n",
    "    --name $ONPREM_VNET_NAME \\\n",
    "    --resource-group $RESOURCE_GROUP \\\n",
    "    --location $LOCATION \\\n",
    "    --address-prefixes $ONPREM_ADDRESS_PREFIX \\\n",
    "    --subnet-name $ONPREM_SUBNET_NAME \\\n",
    "    --subnet-prefixes $ONPREM_SUBNET_PREFIX\n",
    "\n",
    "# GatewaySubnet 생성\n",
    "!az network vnet subnet create \\\n",
    "    --name $GATEWAY_SUBNET_NAME \\\n",
    "    --resource-group $RESOURCE_GROUP \\\n",
    "    --vnet-name $ONPREM_VNET_NAME \\\n",
    "    --address-prefix $GATEWAY_SUBNET_PREFIX"
   ]
  },
  {
   "cell_type": "markdown",
   "metadata": {},
   "source": [
    "#### 1.2 Hub VNET 생성\n",
    "\n",
    "**Azure Portal:**\n",
    "\n",
    "1.  Azure Portal에서 \"Create a resource\"를 클릭합니다.\n",
    "2.  \"Virtual network\"을 검색하여 선택하고 \"Create\"를 클릭합니다.\n",
    "3.  다음 정보를 입력하고 \"Review + create\"를 클릭합니다.\n",
    "    -   Subscription: 사용 중인 Azure 구독을 선택합니다.\n",
    "    -   Resource group: \"secu-ai-workshop\"을 선택합니다.\n",
    "    -   Name: \"hubvnet\"\n",
    "    -   Region: \"Korea Central\"\n",
    "    -   IP Addresses 탭에서 Address space를 \"10.0.0.0/16\"으로 설정합니다.\n",
    "    -   Subnets 탭에서 다음 서브넷을 추가합니다.\n",
    "        -   GatewaySubnet: 10.0.0.0/24\n",
    "        -   AzureFirewallSubnet: 10.0.1.0/26 (주의: AzureFirewallSubnet 이름은 변경 불가)\n",
    "        -   dmz: 10.0.2.0/24\n",
    "4.  \"Create\"를 클릭하여 VNET 생성을 완료합니다."
   ]
  },
  {
   "cell_type": "code",
   "execution_count": null,
   "metadata": {},
   "outputs": [],
   "source": [
    "# 변수 설정\n",
    "HUB_VNET_NAME=\"hubvnet\"\n",
    "HUB_ADDRESS_PREFIX=\"10.0.0.0/16\"\n",
    "HUB_GATEWAY_SUBNET_PREFIX=\"10.0.0.0/24\"\n",
    "FIREWALL_SUBNET_NAME=\"AzureFirewallSubnet\" # AzureFirewallSubnet 이름은 고정\n",
    "FIREWALL_SUBNET_PREFIX=\"10.0.1.0/26\"\n",
    "DMZ_SUBNET_NAME=\"dmz\"\n",
    "DMZ_SUBNET_PREFIX=\"10.0.2.0/24\""
   ]
  },
  {
   "cell_type": "code",
   "execution_count": null,
   "metadata": {},
   "outputs": [],
   "source": [
    "# Hub VNET 생성\n",
    "!az network vnet create \\\n",
    "    --name $HUB_VNET_NAME \\\n",
    "    --resource-group $RESOURCE_GROUP \\\n",
    "    --location $LOCATION \\\n",
    "    --address-prefixes $HUB_ADDRESS_PREFIX \\\n",
    "    --subnet-name $GATEWAY_SUBNET_NAME \\\n",
    "    --subnet-prefixes $HUB_GATEWAY_SUBNET_PREFIX\n",
    "\n",
    "# AzureFirewallSubnet 생성\n",
    "!az network vnet subnet create \\\n",
    "    --name $FIREWALL_SUBNET_NAME \\\n",
    "    --resource-group $RESOURCE_GROUP \\\n",
    "    --vnet-name $HUB_VNET_NAME \\\n",
    "    --address-prefix $FIREWALL_SUBNET_PREFIX\n",
    "\n",
    "# dmz 서브넷 생성\n",
    "!az network vnet subnet create \\\n",
    "    --name $DMZ_SUBNET_NAME \\\n",
    "    --resource-group $RESOURCE_GROUP \\\n",
    "    --vnet-name $HUB_VNET_NAME \\\n",
    "    --address-prefix $DMZ_SUBNET_PREFIX"
   ]
  },
  {
   "cell_type": "markdown",
   "metadata": {},
   "source": [
    "#### 1.3 Spoke1 VNET 생성\n",
    "\n",
    "**Azure Portal:**\n",
    "\n",
    "(Hub VNET 생성 과정과 유사하며, Subnet 구성만 다름)"
   ]
  },
  {
   "cell_type": "code",
   "execution_count": null,
   "metadata": {},
   "outputs": [],
   "source": [
    "# 변수 설정\n",
    "SPOKE1_VNET_NAME=\"spoke1vnet\"\n",
    "SPOKE1_ADDRESS_PREFIX=\"10.1.0.0/16\"\n",
    "SPOKE1_SUBNET_NAME=\"spoke1subnet\"\n",
    "SPOKE1_SUBNET_PREFIX=\"10.1.0.0/24\"\n",
    "SPOKE1_PE_SUBNET_NAME=\"privateendpoint\"\n",
    "SPOKE1_PE_SUBNET_PREFIX=\"10.1.1.0/24\""
   ]
  },
  {
   "cell_type": "code",
   "execution_count": null,
   "metadata": {},
   "outputs": [],
   "source": [
    "# Spoke1 VNET 생성\n",
    "!az network vnet create \\\n",
    "  --name $SPOKE1_VNET_NAME \\\n",
    "  --resource-group $RESOURCE_GROUP \\\n",
    "  --location $LOCATION \\\n",
    "  --address-prefixes $SPOKE1_ADDRESS_PREFIX \\\n",
    "  --subnet-name $SPOKE1_SUBNET_NAME \\\n",
    "  --subnet-prefixes $SPOKE1_SUBNET_PREFIX\n",
    "\n",
    "# Spoke1 privateendpoint 서브넷 생성\n",
    "!az network vnet subnet create \\\n",
    "  --name $SPOKE1_PE_SUBNET_NAME \\\n",
    "  --resource-group $RESOURCE_GROUP \\\n",
    "  --vnet-name $SPOKE1_VNET_NAME \\\n",
    "  --address-prefix $SPOKE1_PE_SUBNET_PREFIX"
   ]
  },
  {
   "cell_type": "markdown",
   "metadata": {},
   "source": [
    "#### 1.4 Spoke2 VNET 생성\n",
    "\n",
    "**Azure Portal:**\n",
    "\n",
    "(Hub VNET 생성 과정과 유사하며, Subnet 구성만 다름)"
   ]
  },
  {
   "cell_type": "code",
   "execution_count": null,
   "metadata": {},
   "outputs": [],
   "source": [
    "# 변수 설정\n",
    "SPOKE2_VNET_NAME=\"spoke2vnet\"\n",
    "SPOKE2_ADDRESS_PREFIX=\"10.2.0.0/16\"\n",
    "SPOKE2_SUBNET_NAME=\"spoke2subnet\"\n",
    "SPOKE2_SUBNET_PREFIX=\"10.2.0.0/24\""
   ]
  },
  {
   "cell_type": "code",
   "execution_count": null,
   "metadata": {},
   "outputs": [],
   "source": [
    "# Spoke2 VNET 생성\n",
    "!az network vnet create \\\n",
    "  --name $SPOKE2_VNET_NAME \\\n",
    "  --resource-group $RESOURCE_GROUP \\\n",
    "  --location $LOCATION \\\n",
    "  --address-prefixes $SPOKE2_ADDRESS_PREFIX \\\n",
    "  --subnet-name $SPOKE2_SUBNET_NAME \\\n",
    "  --subnet-prefixes $SPOKE2_SUBNET_PREFIX"
   ]
  },
  {
   "cell_type": "markdown",
   "metadata": {},
   "source": [
    "#### 1.5 Site-to-Site VPN (On-premise ↔ Hub)\n",
    "\n",
    "**Azure Portal:**\n",
    "\n",
    "\n",
    "1.  **Virtual Network Gateway 생성 (Hub VNET):**\n",
    "\n",
    "    -   \"Create a resource\"에서 \"Virtual network gateway\"를 검색하여 선택하고 \"Create\"를 클릭합니다.\n",
    "    -   다음 정보를 입력합니다.\n",
    "        -   Name: hub-vgw\n",
    "        -   Region: Korea Central\n",
    "        -   Gateway type: VPN\n",
    "        -   VPN type: Route-based\n",
    "        -   SKU: 적절한 SKU 선택 (예: VpnGw1)\n",
    "        -   Generation: Generation1 (또는 적절한 세대 선택)\n",
    "        -   Virtual network: hubvnet\n",
    "        -   Gateway subnet address range: 10.0.0.0/24 (Hub VNET의 GatewaySubnet)\n",
    "        -   Public IP address: 새로 생성 (예: hub-vgw-pip)\n",
    "        -   Enable active-active mode: Disabled (필요에 따라 활성화)\n",
    "        -   Configure BGP: Enabled\n",
    "            -   ASN: 65515\n",
    "    -   \"Review + create\"를 클릭하고 \"Create\"를 클릭합니다.\n",
    "2.  **Local Network Gateway 생성 (Hub VNET용):**\n",
    "\n",
    "    -   \"Create a resource\"에서 \"Local network gateway\"를 검색하여 선택하고 \"Create\"를 클릭합니다.\n",
    "    -   다음 정보를 입력합니다.\n",
    "        -   Name: hub-lgw\n",
    "        -   IP address: On-premise VPN 장치의 Public IP (VM의 Public IP)\n",
    "        -   Address space: On-premise VNET 주소 공간 (192.168.0.0/16)\n",
    "        -   BGP settings에서 ASN: 65001\n",
    "        -   BGP peer IP address: 192.168.0.254\n",
    "        -   Region: Korea Central\n",
    "    -   \"Review + create\"를 클릭하고 \"Create\"를 클릭합니다.\n",
    "3.  **Virtual Network Gateway 생성 (On-prem VNET):**\n",
    "\n",
    "    -   \"Create a resource\"에서 \"Virtual network gateway\"를 검색하여 선택하고 \"Create\"를 클릭합니다.\n",
    "    -   다음 정보를 입력합니다.\n",
    "        -   Name: onprem-vgw\n",
    "        -   Region: Korea Central\n",
    "        -   Gateway type: VPN\n",
    "        -   VPN type: Route-based\n",
    "        -   SKU: 적절한 SKU 선택 (예: VpnGw1)\n",
    "        -   Generation: Generation1 (또는 적절한 세대 선택)\n",
    "        -   Virtual network: onprem-vnet\n",
    "        -   Gateway subnet address range: 192.168.0.0/24 (Onprem VNET의 GatewaySubnet)\n",
    "        -   Public IP address: 새로 생성 (예: onprem-vgw-pip)\n",
    "        -   Enable active-active mode: Disabled (필요에 따라 활성화)\n",
    "        -   Configure BGP: Enabled\n",
    "            - ASN: 65001\n",
    "    -   \"Review + create\"를 클릭하고 \"Create\"를 클릭합니다.\n",
    "4.  **Local Network Gateway 생성 (Onprem VNET용):**\n",
    "\n",
    "    -   \"Create a resource\"에서 \"Local network gateway\"를 검색하여 선택하고 \"Create\"를 클릭합니다.\n",
    "    -   다음 정보를 입력합니다.\n",
    "        -   Name: onprem-lgw\n",
    "        -   IP address: Hub VNET VPN 장치의 Public IP 주소 (실제 주소로 변경)\n",
    "        -   Address space: Hub VNET의 주소 공간 (10.0.0.0/16)\n",
    "        -   Region: Korea Central\n",
    "        -   BGP settings: Enabled\n",
    "            -   ASN: 65515\n",
    "            -   BGP peer IP address: Hub VNET GatewaySubnet 대역에서 사용하지 않는 IP (e.g., 10.0.0.254)\n",
    "    -   \"Review + create\"를 클릭하고 \"Create\"를 클릭합니다.\n",
    "5.  **연결 생성 (Hub VNET):**\n",
    "\n",
    "    -   Hub VNET의 Virtual Network Gateway (hub-vgw) 페이지로 이동합니다.\n",
    "\n",
    "-   \"Connections\"에서 \"Add\"를 클릭합니다.\n",
    "    -   다음 정보를 입력합니다.\n",
    "        -   Name: hub-to-onprem\n",
    "        -   Connection type: Site-to-site (IPsec)\n",
    "        -   Virtual network gateway: hub-vgw\n",
    "        -   Local network gateway: onprem-lgw\n",
    "        -   Shared key (PSK): 공유 키 입력 (On-premise VPN 장치와 동일해야 함)\n",
    "        -   Enable BGP: enabled\n",
    "    -   \"OK\"를 클릭합니다.\n",
    "\n",
    "6.  **연결 생성 (On-prem VNET):**\n",
    "    -   Onprem VNET의 Virtual Network Gateway (onprem-vgw) 페이지로 이동합니다.\n",
    "    -   \"Connections\"에서 \"Add\"를 클릭합니다.\n",
    "    -   다음 정보를 입력합니다.\n",
    "        -   Name: onprem-to-hub\n",
    "        -   Connection type: Site-to-site (IPsec)\n",
    "        -   Virtual network gateway: onprem-vgw\n",
    "        -   Local network gateway: hub-lgw\n",
    "        -   Shared key (PSK): 공유 키 입력 (Hub VNET VPN 장치와 동일해야 함)\n",
    "        -   Enable BGP: enabled\n",
    "    -   \"OK\"를 클릭합니다."
   ]
  },
  {
   "cell_type": "code",
   "execution_count": null,
   "metadata": {},
   "outputs": [],
   "source": [
    "HUB_VGW_PIP_NAME=\"hub-vgw-pip\"\n",
    "SHARED_KEY=\"P@ssw0rd1234\"\n",
    "ONPREM_VGW_PIP_NAME=\"onprem-vgw-pip\"\n"
   ]
  },
  {
   "cell_type": "code",
   "execution_count": null,
   "metadata": {},
   "outputs": [],
   "source": [
    "# hub vnet의 vgw용 public ip 생성\n",
    "\n",
    "!az network public-ip create \\\n",
    "    --name $HUB_VGW_PIP_NAME \\\n",
    "    --resource-group $RESOURCE_GROUP \\\n",
    "    --location $LOCATION \\\n",
    "    --sku Standard \\\n",
    "    --allocation-method Static "
   ]
  },
  {
   "cell_type": "code",
   "execution_count": null,
   "metadata": {},
   "outputs": [],
   "source": [
    "# Hub VNET용 Public IP 주소 조회\n",
    "HUB_VGW_PIP=!az network public-ip show --name $HUB_VGW_PIP_NAME --resource-group $RESOURCE_GROUP --query ipAddress --output tsv\n",
    "HUB_VGW_PIP=HUB_VGW_PIP[0].strip()\n",
    "!echo \"Hub VNET Public IP: $HUB_VGW_PIP\""
   ]
  },
  {
   "cell_type": "code",
   "execution_count": null,
   "metadata": {},
   "outputs": [],
   "source": [
    "# Hub VNET용 Virtual Network Gateway 생성\n",
    "!az network vnet-gateway create \\\n",
    "    --name hub-vgw \\\n",
    "    --resource-group $RESOURCE_GROUP \\\n",
    "    --vnet $HUB_VNET_NAME \\\n",
    "    --gateway-type Vpn \\\n",
    "    --vpn-type RouteBased \\\n",
    "    --sku VpnGw1 \\\n",
    "    --public-ip-addresses $HUB_VGW_PIP_NAME \\\n",
    "    --asn 65516"
   ]
  },
  {
   "cell_type": "code",
   "execution_count": null,
   "metadata": {},
   "outputs": [],
   "source": [
    "# Hub VNET용 Local Network Gateway 생성\n",
    "!az network local-gateway create \\\n",
    "    --name hub-lgw \\\n",
    "    --resource-group $RESOURCE_GROUP \\\n",
    "    --gateway-ip-address $HUB_VGW_PIP \\\n",
    "    --local-address-prefixes $HUB_ADDRESS_PREFIX \\\n",
    "    --asn 65516 \\\n",
    "    --peer-weight 0 \\\n",
    "    --bgp-peering-address 10.0.0.254\n"
   ]
  },
  {
   "cell_type": "code",
   "execution_count": null,
   "metadata": {},
   "outputs": [],
   "source": [
    "# On-prem VNET용 Public IP 주소 생성\n",
    "!az network public-ip create \\\n",
    "        --name $ONPREM_VGW_PIP_NAME \\\n",
    "        --resource-group $RESOURCE_GROUP \\\n",
    "        --location $LOCATION \\\n",
    "        --allocation-method Static"
   ]
  },
  {
   "cell_type": "code",
   "execution_count": null,
   "metadata": {},
   "outputs": [],
   "source": [
    "# On-prem VNET용 Public IP 주소 조회\n",
    "ONPREM_VGW_PIP=!az network public-ip show --name $ONPREM_VGW_PIP_NAME --resource-group $RESOURCE_GROUP --query ipAddress --output tsv\n",
    "ONPREM_VGW_PIP=ONPREM_VGW_PIP[0].strip()\n",
    "!echo \"On-prem VNET Public IP: $ONPREM_VGW_PIP\""
   ]
  },
  {
   "cell_type": "code",
   "execution_count": null,
   "metadata": {},
   "outputs": [],
   "source": [
    "# On-prem VNET용 Virtual Network Gateway 생성\n",
    "!az network vnet-gateway create \\\n",
    "    --name onprem-vgw \\\n",
    "    --resource-group $RESOURCE_GROUP \\\n",
    "    --vnet $ONPREM_VNET_NAME \\\n",
    "    --gateway-type Vpn \\\n",
    "    --vpn-type RouteBased \\\n",
    "    --sku VpnGw1 \\\n",
    "    --public-ip-addresses $ONPREM_VGW_PIP_NAME \\\n",
    "    --asn 65521"
   ]
  },
  {
   "cell_type": "code",
   "execution_count": null,
   "metadata": {},
   "outputs": [],
   "source": [
    "# On-prem VNET용 Local Network Gateway 생성\n",
    "!az network local-gateway create \\\n",
    "    --name onprem-lgw \\\n",
    "    --resource-group $RESOURCE_GROUP \\\n",
    "    --gateway-ip-address $ONPREM_VGW_PIP \\\n",
    "    --local-address-prefixes $ONPREM_ADDRESS_PREFIX \\\n",
    "    --asn 65521 \\\n",
    "    --peer-weight 0 \\\n",
    "    --bgp-peering-address 192.168.0.254"
   ]
  },
  {
   "cell_type": "code",
   "execution_count": null,
   "metadata": {},
   "outputs": [],
   "source": [
    "# Hub VNET과 On-prem VNET 간의 VPN 연결 생성\n",
    "!az network vpn-connection create \\\n",
    "  --name hub-to-onprem \\\n",
    "  --resource-group $RESOURCE_GROUP \\\n",
    "  --vnet-gateway1 hub-vgw \\\n",
    "  --local-gateway2 onprem-lgw \\\n",
    "  --shared-key $SHARED_KEY \\\n",
    "  --location $LOCATION \\\n",
    "  --enable-bgp"
   ]
  },
  {
   "cell_type": "code",
   "execution_count": null,
   "metadata": {},
   "outputs": [],
   "source": [
    "# On-prem VNET과 Hub VNET 간의 VPN 연결 생성\n",
    "!az network vpn-connection create \\\n",
    "    --name onprem-to-hub \\\n",
    "    --resource-group $RESOURCE_GROUP \\\n",
    "    --vnet-gateway1 onprem-vgw \\\n",
    "    --shared-key $SHARED_KEY \\\n",
    "    --local-gateway2 hub-lgw \\\n",
    "    --location $LOCATION \\\n",
    "    --enable-bgp"
   ]
  },
  {
   "cell_type": "markdown",
   "metadata": {},
   "source": [
    "**Site-to-Site VPN 설명:**\n",
    "\n",
    "Site-to-Site VPN은 On-premise 네트워크와 Azure VNET 간에 안전한 암호화된 연결을 제공합니다. Virtual Network Gateway는 VPN 연결의 엔드포인트 역할을 하며, Local Network Gateway는 상대방 네트워크(이 경우 On-premise 또는 Hub)를 나타냅니다."
   ]
  },
  {
   "cell_type": "markdown",
   "metadata": {},
   "source": [
    "#### 1.6 VNET Peering (Hub ↔ Spoke1, Spoke2)\n",
    "\n",
    "**Azure Portal (Hub ↔ Spoke1):**\n",
    "\n",
    "1.  Hub VNET (\"hubvnet\") 설정 페이지로 이동합니다.\n",
    "2.  \"Settings\" 아래의 \"Peerings\"를 선택하고 \"Add\"를 클릭합니다.\n",
    "3.  다음 정보를 입력합니다.\n",
    "    -   This virtual network:\n",
    "\n",
    "        -   Peering link name: hub-to-spoke1\n",
    "        -   Traffic to remote virtual network: Allow\n",
    "        -   Traffic forwarded from remote virtual network: Allow\n",
    "        -   Virtual network gateway or Route Server: Use this virtual network's gateway or Route Server\n",
    "\n",
    "    -   Remote virtual network:\n",
    "\n",
    "        -   Peering link name: spoke1-to-hub\n",
    "        -   Traffic to remote virtual network: Allow\n",
    "        -   Traffic forwarded from remote virtual network: Allow\n",
    "        -   Virtual network gateway or Route Server: Use the remote virtual network's gateway or Route Server\n",
    "        -   Virtual network: spoke1vnet 선택\n",
    "\n",
    "4.  \"Add\"를 클릭합니다."
   ]
  },
  {
   "cell_type": "code",
   "execution_count": null,
   "metadata": {},
   "outputs": [],
   "source": [
    "# Hub VNET에서 Spoke1 VNET으로 Peering 설정\n",
    "!az network vnet peering create \\\n",
    "    --name hub-to-spoke1 \\\n",
    "    --resource-group $RESOURCE_GROUP \\\n",
    "    --vnet-name $HUB_VNET_NAME \\\n",
    "    --remote-vnet $SPOKE1_VNET_NAME \\\n",
    "    --allow-vnet-access \\\n",
    "    --allow-forwarded-traffic \\\n",
    "    --allow-gateway-transit"
   ]
  },
  {
   "cell_type": "code",
   "execution_count": null,
   "metadata": {},
   "outputs": [],
   "source": [
    "# Spoke1 VNET에서 Hub VNET으로 Peering 설정\n",
    "!az network vnet peering create \\\n",
    "    --name spoke1-to-hub \\\n",
    "    --resource-group $RESOURCE_GROUP \\\n",
    "    --vnet-name $SPOKE1_VNET_NAME \\\n",
    "    --remote-vnet $HUB_VNET_NAME \\\n",
    "    --allow-vnet-access \\\n",
    "    --allow-forwarded-traffic \\\n",
    "    --use-remote-gateways"
   ]
  },
  {
   "cell_type": "markdown",
   "metadata": {},
   "source": [
    "**Azure Portal (Hub ↔ Spoke2) 및 AZ CLI (Hub ↔ Spoke2):**\n",
    "\n",
    "Spoke1과 동일한 방식으로 Peering을 설정합니다. (VNET 이름만 Spoke2로 변경)"
   ]
  },
  {
   "cell_type": "code",
   "execution_count": null,
   "metadata": {},
   "outputs": [],
   "source": [
    "# Hub VNET에서 Spoke2 VNET으로 Peering 설정\n",
    "!az network vnet peering create \\\n",
    "    --name hub-to-spoke2 \\\n",
    "    --resource-group $RESOURCE_GROUP \\\n",
    "    --vnet-name $HUB_VNET_NAME \\\n",
    "    --remote-vnet $SPOKE2_VNET_NAME \\\n",
    "    --allow-vnet-access \\\n",
    "    --allow-forwarded-traffic \\\n",
    "    --allow-gateway-transit"
   ]
  },
  {
   "cell_type": "code",
   "execution_count": null,
   "metadata": {},
   "outputs": [],
   "source": [
    "# Spoke2 VNET에서 Hub VNET으로 Peering 설정\n",
    "!az network vnet peering create \\\n",
    "    --name spoke2-to-hub \\\n",
    "    --resource-group $RESOURCE_GROUP \\\n",
    "    --vnet-name $SPOKE2_VNET_NAME \\\n",
    "    --remote-vnet $HUB_VNET_NAME \\\n",
    "    --allow-vnet-access \\\n",
    "    --allow-forwarded-traffic \\\n",
    "    --use-remote-gateways"
   ]
  },
  {
   "cell_type": "markdown",
   "metadata": {},
   "source": [
    "**VNET Peering 설명:**\n",
    "\n",
    "VNET Peering을 통해 서로 다른 VNET 간에 트래픽을 라우팅할 수 있습니다. Hub VNET은 Spoke VNET의 게이트웨이 역할을 하므로 'allow-gateway-transit' 옵션을 사용하고, Spoke VNET에서는 'use-remote-gateways'를 사용하여 Hub VNET의 게이트웨이를 사용하도록 설정합니다.\n"
   ]
  },
  {
   "cell_type": "markdown",
   "metadata": {},
   "source": [
    "#### 1.7 Azure Firewall (Hub VNET에 배치)\n",
    "\n",
    "**Azure Portal:**\n",
    "\n",
    "1.  \"Create a resource\"에서 \"Firewall\"을 검색하여 선택하고 \"Create\"를 클릭합니다.\n",
    "2.  다음 정보를 입력합니다.\n",
    "    -   Subscription: 사용 중인 Azure 구독을 선택합니다.\n",
    "    -   Resource group: \"secu-ai-workshop\"을 선택합니다.\n",
    "    -   Name: \"hub-firewall\"\n",
    "    -   Region: \"Korea Central\"\n",
    "    -   Firewall SKU: Standard (필요에 따라 선택)\n",
    "    -   Firewall management: Use a Firewall Policy to manage this firewall\n",
    "    -   Firewall policy: 새 정책 생성 (예: hub-firewall-policy)\n",
    "    -   Choose a virtual network: Use existing: hubvnet\n",
    "    -   Subnet: AzureFirewallSubnet (자동으로 선택됨)\n",
    "    -   Public IP address: 새로 생성 (예: hub-firewall-pip)\n",
    "3.  \"Review + create\"를 클릭하고 \"Create\"를 클릭합니다."
   ]
  },
  {
   "cell_type": "code",
   "execution_count": null,
   "metadata": {},
   "outputs": [],
   "source": [
    "# 변수 설정\n",
    "FIREWALL_NAME=\"hub-firewall\"\n",
    "FIREWALL_POLICY_NAME=\"hub-firewall-policy\"\n",
    "FIREWALL_PIP_NAME=\"hub-firewall-pip\"\n",
    "FIREWALL_CONF_NAME=\"hub-firewall-conf\""
   ]
  },
  {
   "cell_type": "code",
   "execution_count": null,
   "metadata": {},
   "outputs": [],
   "source": [
    "# extension 설치 (필요시)\n",
    "\n",
    "!az config set extension.dynamic_install_allow_preview=true"
   ]
  },
  {
   "cell_type": "code",
   "execution_count": null,
   "metadata": {},
   "outputs": [],
   "source": [
    "# extension 설치 (필요시)\n",
    "\n",
    "!az extension add --name azure-firewall"
   ]
  },
  {
   "cell_type": "code",
   "execution_count": null,
   "metadata": {},
   "outputs": [],
   "source": [
    "# Azure Firewall Policy 생성\n",
    "!az network firewall policy create \\\n",
    "    --name $FIREWALL_POLICY_NAME \\\n",
    "    --resource-group $RESOURCE_GROUP \\\n",
    "    --location $LOCATION"
   ]
  },
  {
   "cell_type": "code",
   "execution_count": null,
   "metadata": {},
   "outputs": [],
   "source": [
    "# Azure Firewall Public IP 생성\n",
    "!az network public-ip create \\\n",
    "    --name $FIREWALL_PIP_NAME \\\n",
    "    --resource-group $RESOURCE_GROUP \\\n",
    "    --location $LOCATION \\\n",
    "    --sku Standard"
   ]
  },
  {
   "cell_type": "code",
   "execution_count": null,
   "metadata": {},
   "outputs": [],
   "source": [
    "!echo \"Azure Firewall Public IP: $FIREWALL_CONF_NAME\""
   ]
  },
  {
   "cell_type": "code",
   "execution_count": null,
   "metadata": {},
   "outputs": [],
   "source": [
    "# Azure Firewall 생성\n",
    "!az network firewall create \\\n",
    "    --name $FIREWALL_NAME \\\n",
    "    --resource-group $RESOURCE_GROUP \\\n",
    "    --location $LOCATION \\\n",
    "    --vnet-name $HUB_VNET_NAME \\\n",
    "    --public-ip $FIREWALL_PIP_NAME \\\n",
    "    --conf-name $FIREWALL_CONF_NAME \\\n",
    "    --sku \"AZFW_VNet\" \\\n",
    "    --tier \"Standard\" \\\n",
    "    --firewall-policy $FIREWALL_POLICY_NAME\n",
    "        "
   ]
  },
  {
   "cell_type": "markdown",
   "metadata": {},
   "source": [
    "#### 1.8 Azure Firewall Policy (Network Rule Collection)\n",
    "\n",
    "**Azure Portal:**\n",
    "\n",
    "1.  생성된 Firewall Policy (hub-firewall-policy) 페이지로 이동합니다.\n",
    "\n",
    "2.  \"Settings\" 아래의 \"Network Rule Collections\"를 선택하고 \"Add network rule collection\"을 클릭합니다.\n",
    "\n",
    "3.  다음 정보를 입력하여 규칙 컬렉션을 추가합니다.\n",
    "\n",
    "    -   **Onprem to Spoke1:**\n",
    "        -   Name: onprem-to-spoke1\n",
    "        -   Priority: 100\n",
    "        -   Action: Allow\n",
    "        -   Rules:\n",
    "            -   Name: allow-all\n",
    "            -   Source type: IP Address\n",
    "            -   Source addresses: 192.168.0.0/16\n",
    "            -   Destination type: IP Address\n",
    "            -   Destination addresses: 10.1.0.0/16\n",
    "            -   Protocols: Any\n",
    "            -   Ports: \\*\n",
    "    -   **Onprem to Spoke2:**\n",
    "        -   Name: onprem-to-spoke2\n",
    "        -   Priority: 101\n",
    "        -   Action: Allow\n",
    "        -   Rules:\n",
    "        -   Name: allow-all\n",
    "        -   Source type: IP Address\n",
    "        -   Source addresses: 192.168.0.0/16\n",
    "        -   Destination type: IP Address\n",
    "        -   Destination addresses: 10.2.0.0/16\n",
    "        -   Protocols: Any\n",
    "        -   Ports: \\*\n",
    "    -   **Spoke1 to Spoke2:**\n",
    "        -   Name: spoke1-to-spoke2\n",
    "        -   Priority: 103\n",
    "        -   Action: Allow\n",
    "        -   Rules:\n",
    "        -   Name: allow-all\n",
    "        -   Source type: IP Address\n",
    "        -   Source addresses: 10.1.0.0/16\n",
    "        -   Destination type: IP Address\n",
    "        -   Destination addresses: 10.2.0.0/16\n",
    "        -   Protocols: Any\n",
    "        -   Ports: \\*\n",
    "    -   **Spoke2 to Spoke1:**\n",
    "        -   Name: spoke2-to-spoke1\n",
    "        -   Priority: 104\n",
    "        -   Action: Allow\n",
    "        -   Rules:\n",
    "        -   Name: allow-all\n",
    "        -   Source type: IP Address\n",
    "        -   Source addresses: 10.2.0.0/16\n",
    "        -   Destination type: IP Address\n",
    "        -   Destination addresses: 10.1.0.0/16\n",
    "        -   Protocols: Any\n",
    "        -   Ports: \\*\n",
    "4.  \"Add\"를 클릭하여 규칙 컬렉션을 저장합니다."
   ]
  },
  {
   "cell_type": "code",
   "execution_count": null,
   "metadata": {},
   "outputs": [],
   "source": [
    "# Azure Firewall Private IP 주소 조회\n",
    "\n",
    "FIREWALL_IP=!az network firewall show --name $FIREWALL_NAME --resource-group $RESOURCE_GROUP --query \"ipConfigurations[0].privateIPAddress\" -o tsv\n",
    "FIREWALL_IP=FIREWALL_IP[0].strip()\n",
    "!echo \"Azure Firewall IP: $FIREWALL_IP\""
   ]
  },
  {
   "cell_type": "code",
   "execution_count": null,
   "metadata": {},
   "outputs": [],
   "source": [
    "# Firewall Policy ID 가져오기\n",
    "FIREWALL_POLICY_ID=!az network firewall policy show --name $FIREWALL_POLICY_NAME --resource-group $RESOURCE_GROUP --query id -o tsv\n",
    "FIREWALL_POLICY_ID=FIREWALL_POLICY_ID[0].strip()\n",
    "!echo \"Firewall Policy ID: $FIREWALL_POLICY_ID\""
   ]
  },
  {
   "cell_type": "code",
   "execution_count": null,
   "metadata": {},
   "outputs": [],
   "source": [
    "# DefaultNetworkRuleCollectionGroup 생성\n",
    "!az network firewall policy rule-collection-group create \\\n",
    "    --resource-group $RESOURCE_GROUP \\\n",
    "    --policy-name $FIREWALL_POLICY_NAME \\\n",
    "    --name DefaultNetworkRuleCollectionGroup \\\n",
    "    --priority 100"
   ]
  },
  {
   "cell_type": "code",
   "execution_count": null,
   "metadata": {},
   "outputs": [],
   "source": [
    "# Onprem to Spoke1 규칙 컬렉션 추가\n",
    "!az network firewall policy rule-collection-group collection add-filter-collection \\\n",
    "    --rule-collection-group-name DefaultNetworkRuleCollectionGroup \\\n",
    "    --policy-name $FIREWALL_POLICY_NAME \\\n",
    "    --resource-group $RESOURCE_GROUP \\\n",
    "    --name onprem-to-spoke1 \\\n",
    "    --collection-priority 100 \\\n",
    "    --action Allow \\\n",
    "    --rule-type NetworkRule \\\n",
    "    --rule-name allow-all \\\n",
    "    --source-addresses=192.168.0.0/16 \\\n",
    "    --destination-addresses=10.1.0.0/16 \\\n",
    "    --ip-protocols=Any \\\n",
    "    --destination-ports='*'"
   ]
  },
  {
   "cell_type": "code",
   "execution_count": null,
   "metadata": {},
   "outputs": [],
   "source": [
    "\n",
    "# Onprem to Spoke2 규칙 컬렉션 추가\n",
    "!az network firewall policy rule-collection-group collection add-filter-collection \\\n",
    "    --rule-collection-group-name DefaultNetworkRuleCollectionGroup \\\n",
    "    --policy-name $FIREWALL_POLICY_NAME \\\n",
    "    --resource-group $RESOURCE_GROUP \\\n",
    "    --name onprem-to-spoke2 \\\n",
    "    --collection-priority 101 \\\n",
    "    --action Allow \\\n",
    "    --rule-type NetworkRule \\\n",
    "    --rule-name allow-all \\\n",
    "    --source-addresses 192.168.0.0/16 \\\n",
    "    --destination-addresses 10.2.0.0/16 \\\n",
    "    --ip-protocols Any \\\n",
    "    --destination-ports '*'"
   ]
  },
  {
   "cell_type": "code",
   "execution_count": null,
   "metadata": {},
   "outputs": [],
   "source": [
    "# Spoke1 to Spoke2 규칙 컬렉션 추가\n",
    "!az network firewall policy rule-collection-group collection add-filter-collection \\\n",
    "    --rule-collection-group-name DefaultNetworkRuleCollectionGroup \\\n",
    "    --policy-name $FIREWALL_POLICY_NAME \\\n",
    "    --resource-group $RESOURCE_GROUP \\\n",
    "    --name spoke1-to-spoke2 \\\n",
    "    --collection-priority 103 \\\n",
    "    --action Allow \\\n",
    "    --rule-type NetworkRule \\\n",
    "    --rule-name allow-all \\\n",
    "    --source-addresses 10.1.0.0/16 \\\n",
    "    --destination-addresses 10.2.0.0/16 \\\n",
    "    --ip-protocols Any \\\n",
    "    --destination-ports '*'"
   ]
  },
  {
   "cell_type": "code",
   "execution_count": null,
   "metadata": {},
   "outputs": [],
   "source": [
    "# Spoke2 to Spoke1 규칙 컬렉션 추가\n",
    "!az network firewall policy rule-collection-group collection add-filter-collection \\\n",
    "    --rule-collection-group-name DefaultNetworkRuleCollectionGroup \\\n",
    "    --policy-name $FIREWALL_POLICY_NAME \\\n",
    "    --resource-group $RESOURCE_GROUP \\\n",
    "    --name spoke2-to-spoke1 \\\n",
    "    --collection-priority 104 \\\n",
    "    --action Allow \\\n",
    "    --rule-type NetworkRule \\\n",
    "    --rule-name allow-all \\\n",
    "    --source-addresses 10.2.0.0/16 \\\n",
    "    --destination-addresses 10.1.0.0/16 \\\n",
    "    --ip-protocols Any \\\n",
    "    --destination-ports '*'"
   ]
  },
  {
   "cell_type": "markdown",
   "metadata": {},
   "source": [
    "#### 1.9 Route Table\n",
    "\n",
    "##### 1.9.1 Hub Route Table (Hub VNET GatewaySubnet에 연결)\n",
    "\n",
    "**Azure Portal:**\n",
    "\n",
    "1.  \"Create a resource\"에서 \"Route table\"을 검색하여 선택하고 \"Create\"를 클릭합니다.\n",
    "\n",
    "2.  다음 정보를 입력합니다.\n",
    "\n",
    "    -   Subscription: 사용 중인 Azure 구독\n",
    "    -   Resource group: \"secu-ai-workshop\"\n",
    "    -   Location: \"Korea Central\"\n",
    "    -   Name: \"hub-route-table\"\n",
    "    -   Propagate gateway routes: No\n",
    "3.  \"Review + create\"를 클릭하고 \"Create\"를 클릭합니다.\n",
    "\n",
    "4.  생성된 Route Table (hub-route-table) 페이지로 이동합니다.\n",
    "\n",
    "5.  \"Settings\" 아래의 \"Routes\"를 선택하고 \"Add\"를 클릭합니다.\n",
    "\n",
    "6.  다음 정보를 입력하여 경로를 추가합니다.\n",
    "\n",
    "    -   Route name: to-spoke1\n",
    "    -   Address prefix destination: IP Addresses\n",
    "    -   Destination IP addresses/CIDR ranges: 10.1.0.0/16\n",
    "    -   Next hop type: Virtual appliance\n",
    "    -   Next hop address: 10.0.1.4 (Azure Firewall IP)\n",
    "    -   Route name: to-spoke2\n",
    "    -   Address prefix destination: IP Addresses\n",
    "    -   Destination IP addresses/CIDR ranges: 10.2.0.0/16\n",
    "    -   Next hop type: Virtual appliance\n",
    "    -   Next hop address: 10.0.1.4 (Azure Firewall IP)\n",
    "7.  \"Settings\" 아래 \"Subnets\"를 선택하고 \"Associate\"를 클릭합니다.\n",
    "\n",
    "    -   Virtual network: hubvnet 선택\n",
    "    -   Subnet: GatewaySubnet 선택\n",
    "8.  \"Associate\"를 클릭합니다."
   ]
  },
  {
   "cell_type": "code",
   "execution_count": null,
   "metadata": {},
   "outputs": [],
   "source": [
    "# Route Table 생성\n",
    "!az network route-table create \\\n",
    "    --name hub-route-table \\\n",
    "    --resource-group $RESOURCE_GROUP \\\n",
    "    --location $LOCATION \\\n",
    "    --disable-bgp-route-propagation true\n"
   ]
  },
  {
   "cell_type": "code",
   "execution_count": null,
   "metadata": {},
   "outputs": [],
   "source": [
    "# Spoke1으로 가는 경로 추가\n",
    "!az network route-table route create \\\n",
    "    --name to-spoke1 \\\n",
    "    --resource-group $RESOURCE_GROUP \\\n",
    "    --route-table-name hub-route-table \\\n",
    "    --address-prefix 10.1.0.0/16 \\\n",
    "    --next-hop-type VirtualAppliance \\\n",
    "    --next-hop-ip-address $FIREWALL_IP\n"
   ]
  },
  {
   "cell_type": "code",
   "execution_count": null,
   "metadata": {},
   "outputs": [],
   "source": [
    "# Spoke2으로 가는 경로 추가\n",
    "!az network route-table route create \\\n",
    "    --name to-spoke2 \\\n",
    "    --resource-group $RESOURCE_GROUP \\\n",
    "    --route-table-name hub-route-table \\\n",
    "    --address-prefix 10.2.0.0/16 \\\n",
    "    --next-hop-type VirtualAppliance \\\n",
    "    --next-hop-ip-address $FIREWALL_IP"
   ]
  },
  {
   "cell_type": "code",
   "execution_count": null,
   "metadata": {},
   "outputs": [],
   "source": [
    "# Hub VNET GatewaySubnet에 연결\n",
    "!az network vnet subnet update \\\n",
    "    --name $GATEWAY_SUBNET_NAME \\\n",
    "    --resource-group $RESOURCE_GROUP \\\n",
    "    --vnet-name $HUB_VNET_NAME \\\n",
    "    --route-table hub-route-table"
   ]
  },
  {
   "cell_type": "markdown",
   "metadata": {},
   "source": [
    "##### 1.9.2 Spoke1 Route Table (Spoke1 VNET에 연결)\n",
    "\n",
    "**Azure Portal:**\n",
    "\n",
    "(Hub Route Table과 유사하게 생성하고, 경로는 0.0.0.0/0 트래픽을 Firewall로 전달)"
   ]
  },
  {
   "cell_type": "code",
   "execution_count": null,
   "metadata": {},
   "outputs": [],
   "source": [
    "# Route Table 생성\n",
    "!az network route-table create \\\n",
    "    --name spoke1-route-table \\\n",
    "    --resource-group $RESOURCE_GROUP \\\n",
    "    --location $LOCATION \\\n",
    "    --disable-bgp-route-propagation true"
   ]
  },
  {
   "cell_type": "code",
   "execution_count": null,
   "metadata": {},
   "outputs": [],
   "source": [
    "# 0.0.0.0/0 트래픽을 Firewall로 전달하는 경로 추가\n",
    "!az network route-table route create \\\n",
    "    --name to-firewall \\\n",
    "    --resource-group $RESOURCE_GROUP \\\n",
    "    --route-table-name spoke1-route-table \\\n",
    "    --address-prefix 0.0.0.0/0 \\\n",
    "    --next-hop-type VirtualAppliance \\\n",
    "    --next-hop-ip-address $FIREWALL_IP"
   ]
  },
  {
   "cell_type": "code",
   "execution_count": null,
   "metadata": {},
   "outputs": [],
   "source": [
    "# Spoke1 VNET에 연결\n",
    "!az network vnet subnet update \\\n",
    "    --name $SPOKE1_SUBNET_NAME \\\n",
    "    --resource-group $RESOURCE_GROUP \\\n",
    "    --vnet-name $SPOKE1_VNET_NAME \\\n",
    "    --route-table spoke1-route-table"
   ]
  },
  {
   "cell_type": "markdown",
   "metadata": {},
   "source": [
    "##### 1.9.3 Spoke2 Route Table (Spoke2 VNET에 연결)\n",
    "\n",
    "**Azure Portal:**\n",
    "\n",
    "(Spoke1 Route Table과 동일하게 생성)\n"
   ]
  },
  {
   "cell_type": "code",
   "execution_count": null,
   "metadata": {},
   "outputs": [],
   "source": [
    "# Route Table 생성\n",
    "!az network route-table create \\\n",
    "    --name spoke2-route-table \\\n",
    "    --resource-group $RESOURCE_GROUP \\\n",
    "    --location $LOCATION \\\n",
    "    --disable-bgp-route-propagation true"
   ]
  },
  {
   "cell_type": "code",
   "execution_count": null,
   "metadata": {},
   "outputs": [],
   "source": [
    "# 0.0.0.0/0 트래픽을 Firewall로 전달하는 경로 추가\n",
    "!az network route-table route create \\\n",
    "    --name to-firewall \\\n",
    "    --resource-group $RESOURCE_GROUP \\\n",
    "    --route-table-name spoke2-route-table \\\n",
    "    --address-prefix 0.0.0.0/0 \\\n",
    "    --next-hop-type VirtualAppliance \\\n",
    "    --next-hop-ip-address $FIREWALL_IP"
   ]
  },
  {
   "cell_type": "code",
   "execution_count": null,
   "metadata": {},
   "outputs": [],
   "source": [
    "# Spoke2 VNET에 연결\n",
    "!az network vnet subnet update \\\n",
    "    --name $SPOKE2_SUBNET_NAME \\\n",
    "    --resource-group $RESOURCE_GROUP \\\n",
    "    --vnet-name $SPOKE2_VNET_NAME \\\n",
    "    --route-table spoke2-route-table"
   ]
  },
  {
   "cell_type": "markdown",
   "metadata": {},
   "source": [
    "\n",
    "**Route Table 설명:**\n",
    "\n",
    "-   **Hub Route Table:** Spoke VNET으로 향하는 트래픽을 Azure Firewall로 전달하여 보안 정책을 적용합니다.\n",
    "-   **Spoke Route Table:** 인터넷으로 나가는 트래픽 (0.0.0.0/0)을 Azure Firewall로 전달하여 중앙 집중식 보안 관리를 수행합니다."
   ]
  }
 ],
 "metadata": {
  "kernelspec": {
   "display_name": "Python 3",
   "language": "python",
   "name": "python3"
  },
  "language_info": {
   "codemirror_mode": {
    "name": "ipython",
    "version": 3
   },
   "file_extension": ".py",
   "mimetype": "text/x-python",
   "name": "python",
   "nbconvert_exporter": "python",
   "pygments_lexer": "ipython3",
   "version": "3.11.4"
  }
 },
 "nbformat": 4,
 "nbformat_minor": 2
}
