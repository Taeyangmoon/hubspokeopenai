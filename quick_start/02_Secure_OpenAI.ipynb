{
 "cells": [
  {
   "cell_type": "markdown",
   "metadata": {},
   "source": [
    "### 2단계: Azure 서비스 구성\n",
    "\n",
    "#### 2.1 Azure OpenAI Service (Private Endpoint)\n",
    "\n",
    "**Azure Portal:**\n",
    "\n",
    "1.  \"Create a resource\"에서 \"Azure OpenAI\"를 검색하여 선택하고 \"Create\"를 클릭합니다.\n",
    "2.  다음 정보를 입력합니다.\n",
    "    -   Subscription: 사용 중인 Azure 구독\n",
    "    -   Resource group: \"secu-ai-workshop\"\n",
    "    -   Region: \"Korea Central\"\n",
    "    -   Name: \"secu-ai-account\"\n",
    "    -   Pricing tier: Standard S0\n",
    "3.  \"Next: Network\"를 클릭하고, \"Connectivity type\"을 \"Private endpoint\"로 선택합니다.\n",
    "4.  \"Add private endpoint\"를 클릭하고 다음을 수행합니다.\n",
    "    -   Name: \"secu-ai-pe\"\n",
    "    -   Location: \"Korea Central\"\n",
    "    -   Virtual Network: spoke1vnet\n",
    "    -   Subnet: privateendpoint\n",
    "    -   OK\n",
    "5.  \"Review + create\"를 클릭하고 \"Create\"를 클릭합니다.\n",
    "6.  Azure OpenAI Service가 배포된 후 gpt-4o 모델 배포\n",
    "    -   Azure OpenAI Studio로 이동\n",
    "    -   Deployments에서 Create new deployment 선택\n",
    "    -   Model: gpt-4o 선택 후 버전 선택,\n",
    "    -   Deployment name을 입력하고 Create."
   ]
  },
  {
   "cell_type": "code",
   "execution_count": 1,
   "metadata": {},
   "outputs": [],
   "source": [
    "# 기존 변수 설정\n",
    "RESOURCE_GROUP=\"secu-ai-workshop\"\n",
    "LOCATION=\"koreacentral\"\n",
    "\n",
    "ONPREM_VNET_NAME=\"onprem-vnet\"\n",
    "ONPREM_ADDRESS_PREFIX=\"192.168.0.0/16\"\n",
    "ONPREM_SUBNET_NAME=\"onprem-subnet\"\n",
    "ONPREM_SUBNET_PREFIX=\"192.168.1.0/24\"\n",
    "GATEWAY_SUBNET_NAME=\"GatewaySubnet\" # GatewaySubnet 이름은 고정\n",
    "GATEWAY_SUBNET_PREFIX=\"192.168.0.0/24\"\n",
    "\n",
    "HUB_VNET_NAME=\"hubvnet\"\n",
    "HUB_ADDRESS_PREFIX=\"10.0.0.0/16\"\n",
    "HUB_GATEWAY_SUBNET_PREFIX=\"10.0.0.0/24\"\n",
    "FIREWALL_SUBNET_NAME=\"AzureFirewallSubnet\" # AzureFirewallSubnet 이름은 고정\n",
    "FIREWALL_SUBNET_PREFIX=\"10.0.1.0/26\"\n",
    "DMZ_SUBNET_NAME=\"dmz\"\n",
    "DMZ_SUBNET_PREFIX=\"10.0.2.0/24\"\n",
    "\n",
    "SPOKE1_VNET_NAME=\"spoke1vnet\"\n",
    "SPOKE1_ADDRESS_PREFIX=\"10.1.0.0/16\"\n",
    "SPOKE1_SUBNET_NAME=\"spoke1subnet\"\n",
    "SPOKE1_SUBNET_PREFIX=\"10.1.0.0/24\"\n",
    "SPOKE1_PE_SUBNET_NAME=\"privateendpoint\"\n",
    "SPOKE1_PE_SUBNET_PREFIX=\"10.1.1.0/24\"\n",
    "\n",
    "SPOKE2_VNET_NAME=\"spoke2vnet\"\n",
    "SPOKE2_ADDRESS_PREFIX=\"10.2.0.0/16\"\n",
    "SPOKE2_SUBNET_NAME=\"spoke2subnet\"\n",
    "SPOKE2_SUBNET_PREFIX=\"10.2.0.0/24\""
   ]
  },
  {
   "cell_type": "code",
   "execution_count": 4,
   "metadata": {},
   "outputs": [],
   "source": [
    "# Azure OpenAI 관련 변수 설정\n",
    "OPENAI_NAME=\"secu-ai-account1\"\n",
    "OPENAI_PE_NAME=\"secu-ai-pe\"\n",
    "OPENAI_PRIVATE_DNS_ZONE=\"privatelink.openai.azure.com\""
   ]
  },
  {
   "cell_type": "code",
   "execution_count": null,
   "metadata": {},
   "outputs": [],
   "source": [
    "# Azure OpenAI account 생성\n",
    "!az cognitiveservices account create \\\n",
    "    --name $OPENAI_NAME \\\n",
    "    --custom-domain $OPENAI_NAME \\\n",
    "    --resource-group $RESOURCE_GROUP \\\n",
    "    --location $LOCATION \\\n",
    "    --kind OpenAI \\\n",
    "    --sku s0"
   ]
  },
  {
   "cell_type": "code",
   "execution_count": null,
   "metadata": {},
   "outputs": [],
   "source": [
    "# Azure OpenAI account의 Private Endpoint 생성\n",
    "OPENAI_RESOURCE_ID=!az cognitiveservices account show --name $OPENAI_NAME --resource-group $RESOURCE_GROUP --query id -o tsv\n",
    "OPENAI_RESOURCE_ID=OPENAI_RESOURCE_ID[0].strip()\n",
    "!echo $OPENAI_RESOURCE_ID"
   ]
  },
  {
   "cell_type": "code",
   "execution_count": null,
   "metadata": {},
   "outputs": [],
   "source": [
    "\n",
    "# Private Endpoint 생성\n",
    "!az network private-endpoint create \\\n",
    "    --name $OPENAI_PE_NAME \\\n",
    "    --resource-group $RESOURCE_GROUP \\\n",
    "    --vnet-name $SPOKE1_VNET_NAME \\\n",
    "    --subnet $SPOKE1_PE_SUBNET_NAME \\\n",
    "    --private-connection-resource-id $OPENAI_RESOURCE_ID \\\n",
    "    --group-ids account \\\n",
    "    --connection-name openai-connection \\\n",
    "    --location $LOCATION\n"
   ]
  },
  {
   "cell_type": "code",
   "execution_count": null,
   "metadata": {},
   "outputs": [],
   "source": [
    "# Private DNS Zone 생성 (privatelink.openai.azure.com)\n",
    "!az network private-dns zone create \\\n",
    "    --name $OPENAI_PRIVATE_DNS_ZONE \\\n",
    "    --resource-group $RESOURCE_GROUP"
   ]
  },
  {
   "cell_type": "code",
   "execution_count": null,
   "metadata": {},
   "outputs": [],
   "source": [
    "# Private DNS Zone Link 생성 (Spoke1 VNET)\n",
    "!az network private-dns link vnet create \\\n",
    "    --name spoke1vnetDnsLink \\\n",
    "    --resource-group $RESOURCE_GROUP \\\n",
    "    --zone-name $OPENAI_PRIVATE_DNS_ZONE \\\n",
    "    --virtual-network $SPOKE1_VNET_NAME \\\n",
    "    --registration-enabled false"
   ]
  },
  {
   "cell_type": "code",
   "execution_count": null,
   "metadata": {},
   "outputs": [],
   "source": [
    "# Private DNS Zone Link 생성 (Onprem VNET)\n",
    "!az network private-dns link vnet create \\\n",
    "    --name onpremvnetDnsLink \\\n",
    "    --resource-group $RESOURCE_GROUP \\\n",
    "    --zone-name $OPENAI_PRIVATE_DNS_ZONE \\\n",
    "    --virtual-network $ONPREM_VNET_NAME \\\n",
    "    --registration-enabled false"
   ]
  },
  {
   "cell_type": "code",
   "execution_count": null,
   "metadata": {},
   "outputs": [],
   "source": [
    "# Private DNS Zone Link 생성 (Hub VNET)\n",
    "!az network private-dns link vnet create \\\n",
    "    --name hubvnetDnsLink \\\n",
    "    --resource-group $RESOURCE_GROUP \\\n",
    "    --zone-name $OPENAI_PRIVATE_DNS_ZONE \\\n",
    "    --virtual-network $HUB_VNET_NAME \\\n",
    "    --registration-enabled false"
   ]
  },
  {
   "cell_type": "code",
   "execution_count": null,
   "metadata": {},
   "outputs": [],
   "source": [
    "OPENAI_PRIVATE_DNS_ZONE_ID=!az network private-dns zone show --name $OPENAI_PRIVATE_DNS_ZONE --resource-group $RESOURCE_GROUP --query id -o tsv\n",
    "OPENAI_PRIVATE_DNS_ZONE_ID=OPENAI_PRIVATE_DNS_ZONE_ID[0].strip()\n",
    "!echo $OPENAI_PRIVATE_DNS_ZONE_ID"
   ]
  },
  {
   "cell_type": "code",
   "execution_count": null,
   "metadata": {},
   "outputs": [],
   "source": [
    "# private dns record set create\n",
    "!az network private-endpoint dns-zone-group create \\\n",
    "    -n \"privatelink.openai.azure.com\" \\\n",
    "    -g $RESOURCE_GROUP \\\n",
    "    --private-dns-zone $OPENAI_PRIVATE_DNS_ZONE \\\n",
    "    --endpoint-name $OPENAI_PE_NAME \\\n",
    "    --zone-name $OPENAI_PRIVATE_DNS_ZONE"
   ]
  },
  {
   "cell_type": "code",
   "execution_count": null,
   "metadata": {},
   "outputs": [],
   "source": [
    "# Azure OpenAI account에 모델 배포. GPT-4o 모델을 사용합니다.\n",
    "!az cognitiveservices account deployment create \\\n",
    "    --name $OPENAI_NAME \\\n",
    "    --resource-group $RESOURCE_GROUP \\\n",
    "    --deployment-name gpt-4o \\\n",
    "    --model-name gpt-4o \\\n",
    "    --model-version \"2024-08-06\" \\\n",
    "    --sku-capacity \"100\" \\\n",
    "    --sku-name \"GlobalStandard\" \\\n",
    "    --model-format \"OpenAI\""
   ]
  },
  {
   "cell_type": "code",
   "execution_count": null,
   "metadata": {},
   "outputs": [],
   "source": []
  },
  {
   "cell_type": "markdown",
   "metadata": {},
   "source": [
    "#### 2.2 Key Vault (비밀/키 관리)\n",
    "\n",
    "**Azure Portal:**\n",
    "\n",
    "1.  \"Create a resource\"에서 \"Key Vault\"를 검색하여 선택하고 \"Create\"를 클릭합니다.\n",
    "2.  다음 정보를 입력합니다.\n",
    "    -   Subscription: 사용 중인 Azure 구독\n",
    "    -   Resource group: \"secu-ai-workshop\"\n",
    "    -   Key vault name: \"secu-ai-kv\" (고유한 이름)\n",
    "    -   Region: \"Korea Central\"\n",
    "    -   Pricing tier: Standard (필요에 따라 선택)\n",
    "3.  \"Review + create\"를 클릭하고 \"Create\"를 클릭합니다.\n",
    "4.  생성된 Key Vault에 OpenAI Key를 secret으로 저장합니다.\n",
    "\n",
    "-   Key Vault의 \"Secrets\" 탭에서 \"Generate/Import\"를 클릭합니다.\n",
    "    -   Upload options: Manual\n",
    "    -   Name: openai-key\n",
    "    -   Value: OpenAI API 키 입력 (다음 명령어로 확인: `az cognitiveservices account keys list --name $OPENAI_NAME --resource-group $RESOURCE_GROUP`)\n",
    "    -   Content type: text\n",
    "    -   Enabled: Yes\n",
    "    -   Create"
   ]
  },
  {
   "cell_type": "code",
   "execution_count": null,
   "metadata": {},
   "outputs": [],
   "source": [
    "# 변수 설정\n",
    "KEY_VAULT_NAME=\"secu-ai-kv\"\n",
    "\n",
    "# Key Vault 생성\n",
    "!az keyvault create \\\n",
    "    --name $KEY_VAULT_NAME \\\n",
    "    --resource-group $RESOURCE_GROUP \\\n",
    "    --location $LOCATION\n",
    "\n",
    "# OpenAI API Key를 변수에 저장\n",
    "OPENAI_API_KEY=$(!az cognitiveservices account keys list --name $OPENAI_NAME --resource-group $RESOURCE_GROUP --query key1 -o tsv)\n",
    "\n",
    "# Key Vault에 OpenAI Key를 secret으로 저장\n",
    "!az keyvault secret set \\\n",
    "    --vault-name $KEY_VAULT_NAME \\\n",
    "    --name openai-key \\\n",
    "    --value $OPENAI_API_KEY"
   ]
  },
  {
   "cell_type": "markdown",
   "metadata": {},
   "source": [
    "#### 2.3 Azure API Management (Private Endpoint)\n",
    "\n",
    "**Azure Portal:**\n",
    "\n",
    "1.  \"Create a resource\"에서 \"API Management\"를 검색하여 선택하고 \"Create\"를 클릭합니다.\n",
    "2.  다음 정보를 입력합니다.\n",
    "    -   Subscription: 사용 중인 Azure 구독\n",
    "    -   Resource group: \"secu-ai-workshop\"\n",
    "    -   Region: \"Korea Central\"\n",
    "    -   Name: \"secu-ai-apim\"\n",
    "    -   Pricing tier: Developer (테스트 용도)\n",
    "    -   Enable virtual network: On\n",
    "    -   Virtual Network: spoke1vnet\n",
    "    -   subnet: privateendpoint\n",
    "3.  \"Review + create\" 를 클릭하고 \"Create\"를 클릭합니다.\n",
    "4.  생성 후 apim의 private endpoint 생성\n",
    "    -   apim의 \"Private endpoint connections\" 탭으로 이동합니다.\n",
    "    -   \"Private endpoint\" 클릭\n",
    "    -   Subscription: 사용 중인 Azure 구독\n",
    "    -   Resource group: \"secu-ai-workshop\"\n",
    "        -   Name: apim-pe\n",
    "        -   Location: \"Korea Central\"\n",
    "        -   Virtual Network: spoke1vnet\n",
    "        -   Subnet: privateendpoint\n",
    "        -   Integrate with private DNS zone: yes\n",
    "        -   Private DNS Zone: privatelink.azure-api.net"
   ]
  },
  {
   "cell_type": "code",
   "execution_count": 21,
   "metadata": {},
   "outputs": [],
   "source": [
    "# 변수 설정\n",
    "APIM_NAME=\"secu-ai-apim-1\"\n",
    "APIM_PE_NAME=\"apim-pe\"\n",
    "APIM_PRIVATE_DNS_ZONE=\"privatelink.azure-api.net\""
   ]
  },
  {
   "cell_type": "code",
   "execution_count": 19,
   "metadata": {},
   "outputs": [],
   "source": [
    "# APIM 생성을 위한 VNET Subnet ID 가져오기\n",
    "SPOKE1_VNET_ID=!az network vnet show --name $SPOKE1_VNET_NAME --resource-group $RESOURCE_GROUP --query id -o tsv\n",
    "SPOKE1_VNET_ID=SPOKE1_VNET_ID[0].strip()\n",
    "SPOKE1_PE_SUBNET_ID=!az network vnet subnet show --name $SPOKE1_PE_SUBNET_NAME --resource-group $RESOURCE_GROUP --vnet-name $SPOKE1_VNET_NAME --query id -o tsv\n",
    "SPOKE1_PE_SUBNET_ID=SPOKE1_PE_SUBNET_ID[0].strip()\n"
   ]
  },
  {
   "cell_type": "code",
   "execution_count": null,
   "metadata": {},
   "outputs": [],
   "source": [
    "# API Management 생성\n",
    "!az apim create \\\n",
    "    --name $APIM_NAME \\\n",
    "    --resource-group $RESOURCE_GROUP \\\n",
    "    --location $LOCATION \\\n",
    "    --publisher-name \"My Company\" \\\n",
    "    --publisher-email \"admin@mycompany.com\" \\\n",
    "    --sku-name Developer"
   ]
  },
  {
   "cell_type": "code",
   "execution_count": null,
   "metadata": {},
   "outputs": [],
   "source": [
    "# APIM에 Private Endpoint 생성을 위한 변수 설정정\n",
    "APIM_RESOURCE_ID=!az apim show --name $APIM_NAME --resource-group $RESOURCE_GROUP --query id -o tsv\n",
    "APIM_RESOURCE_ID=APIM_RESOURCE_ID[0].strip()\n",
    "!echo $APIM_RESOURCE_ID"
   ]
  },
  {
   "cell_type": "code",
   "execution_count": null,
   "metadata": {},
   "outputs": [],
   "source": [
    "# Private Endpoint 생성\n",
    "!az network private-endpoint create \\\n",
    "    --name $APIM_PE_NAME \\\n",
    "    --resource-group $RESOURCE_GROUP \\\n",
    "    --vnet-name $SPOKE1_VNET_NAME \\\n",
    "    --subnet $SPOKE1_PE_SUBNET_NAME \\\n",
    "    --private-connection-resource-id $APIM_RESOURCE_ID \\\n",
    "    --connection-name apim-connection \\\n",
    "    --location $LOCATION \\\n",
    "    --group-id Gateway \n"
   ]
  },
  {
   "cell_type": "code",
   "execution_count": null,
   "metadata": {},
   "outputs": [],
   "source": [
    "# APIM에 public endpoint을 사용하지 않도록 설정\n",
    "\n",
    "!az apim update --name $APIM_NAME  --resource-group $RESOURCE_GROUP --public-network-access false --no-wait"
   ]
  },
  {
   "cell_type": "code",
   "execution_count": null,
   "metadata": {},
   "outputs": [],
   "source": [
    "# Private DNS Zone 생성 (privatelink.azure-api.net)\n",
    "!az network private-dns zone create \\\n",
    "    --name $APIM_PRIVATE_DNS_ZONE \\\n",
    "    --resource-group $RESOURCE_GROUP"
   ]
  },
  {
   "cell_type": "code",
   "execution_count": null,
   "metadata": {},
   "outputs": [],
   "source": [
    "# Private DNS Zone Link 생성 (Spoke1 VNET)\n",
    "!az network private-dns link vnet create \\\n",
    "    --name spoke1vnetApimDnsLink \\\n",
    "    --resource-group $RESOURCE_GROUP \\\n",
    "    --zone-name $APIM_PRIVATE_DNS_ZONE \\\n",
    "    --virtual-network $SPOKE1_VNET_NAME \\\n",
    "    --registration-enabled false"
   ]
  },
  {
   "cell_type": "code",
   "execution_count": null,
   "metadata": {},
   "outputs": [],
   "source": [
    "# Private DNS Zone Link 생성 (Onprem VNET)\n",
    "!az network private-dns link vnet create \\\n",
    "    --name onpremvnetApimDnsLink \\\n",
    "    --resource-group $RESOURCE_GROUP \\\n",
    "    --zone-name $APIM_PRIVATE_DNS_ZONE \\\n",
    "    --virtual-network $ONPREM_VNET_NAME \\\n",
    "    --registration-enabled false"
   ]
  },
  {
   "cell_type": "code",
   "execution_count": null,
   "metadata": {},
   "outputs": [],
   "source": [
    "# Private DNS Zone Link 생성 (Hub VNET)\n",
    "!az network private-dns link vnet create \\\n",
    "    --name hubvnetApimDnsLink \\\n",
    "    --resource-group $RESOURCE_GROUP \\\n",
    "    --zone-name $APIM_PRIVATE_DNS_ZONE \\\n",
    "    --virtual-network $HUB_VNET_NAME \\\n",
    "    --registration-enabled false"
   ]
  },
  {
   "cell_type": "code",
   "execution_count": null,
   "metadata": {},
   "outputs": [],
   "source": [
    "# private dns record set create\n",
    "!az network private-endpoint dns-zone-group create \\\n",
    "    -n \"privatelink.azure-api.net\" \\\n",
    "    -g $RESOURCE_GROUP \\\n",
    "    --private-dns-zone $APIM_PRIVATE_DNS_ZONE \\\n",
    "    --endpoint-name $APIM_PE_NAME \\\n",
    "    --zone-name $OPENAI_PRIVATE_DNS_ZONE"
   ]
  },
  {
   "cell_type": "markdown",
   "metadata": {},
   "source": [
    "#### 2.4 Log Analytics (APIM 등 모니터링)\n",
    "\n",
    "**Azure Portal:**\n",
    "\n",
    "1.  \"Create a resource\"에서 \"Log Analytics workspace\"를 검색하여 선택하고 \"Create\"를 클릭합니다.\n",
    "2.  다음 정보를 입력합니다.\n",
    "    -   Subscription: 사용 중인 Azure 구독\n",
    "    -   Resource group: \"secu-ai-workshop\"\n",
    "    -   Name: \"secu-ai-log\"\n",
    "    -   Region: \"Korea Central\"\n",
    "3.  \"Review + create\"를 클릭하고 \"Create\"를 클릭합니다."
   ]
  },
  {
   "cell_type": "code",
   "execution_count": 34,
   "metadata": {},
   "outputs": [],
   "source": [
    "# 변수 설정\n",
    "LOG_ANALYTICS_NAME=\"secu-ai-log\""
   ]
  },
  {
   "cell_type": "code",
   "execution_count": null,
   "metadata": {},
   "outputs": [],
   "source": [
    "# Log Analytics Workspace 생성\n",
    "!az monitor log-analytics workspace create \\\n",
    "    --name $LOG_ANALYTICS_NAME \\\n",
    "    --resource-group $RESOURCE_GROUP \\\n",
    "    --location $LOCATION"
   ]
  },
  {
   "cell_type": "markdown",
   "metadata": {},
   "source": [
    "#### 2.5 APIM 진단 로그 설정\n",
    "\n",
    "Azure Portal:\n",
    "\n",
    "\\[APIM 설정 가이드\\]의 \"Configure the Diagnostic Logs settings\" 섹션을 참고합니다."
   ]
  },
  {
   "cell_type": "code",
   "execution_count": null,
   "metadata": {},
   "outputs": [],
   "source": [
    "# Log Analytics Workspace ID 가져오기\n",
    "LOG_ANALYTICS_WORKSPACE_ID=!az monitor log-analytics workspace show --name $LOG_ANALYTICS_NAME --resource-group $RESOURCE_GROUP --query id -o tsv\n",
    "LOG_ANALYTICS_WORKSPACE_ID=LOG_ANALYTICS_WORKSPACE_ID[0].strip()\n",
    "!echo $LOG_ANALYTICS_WORKSPACE_ID\n"
   ]
  },
  {
   "cell_type": "code",
   "execution_count": 53,
   "metadata": {},
   "outputs": [],
   "source": [
    "LOGS=\"[{category:GatewayLogs,enabled:true}]\"\n",
    "METRICS=\"[{category:AllMetrics,enabled:true}]\""
   ]
  },
  {
   "cell_type": "code",
   "execution_count": null,
   "metadata": {},
   "outputs": [],
   "source": [
    "# APIM 진단 설정\n",
    "\n",
    "!az monitor diagnostic-settings create \\\n",
    "    --name apim-diagnostics \\\n",
    "    --resource $APIM_NAME \\\n",
    "    --resource-group $RESOURCE_GROUP \\\n",
    "    --resource-type Microsoft.ApiManagement/service \\\n",
    "    --workspace $LOG_ANALYTICS_WORKSPACE_ID \\\n",
    "    --logs $LOGS \\\n",
    "    --metrics $METRICS"
   ]
  },
  {
   "cell_type": "markdown",
   "metadata": {},
   "source": [
    "#### 2.6 APIM과 OpenAI Service 연결 및 Backend/API 설정\n",
    "\n",
    "**APIM Named Value 설정 (Azure Portal):**\n",
    "\n",
    "1.  API Management 인스턴스 (secu-ai-apim)로 이동합니다.\n",
    "\n",
    "2.  \"Named values\"를 클릭하고 \"+ Add\"를 클릭합니다.\n",
    "\n",
    "3.  다음 정보를 입력합니다.\n",
    "\n",
    "    -   Name: openai-key-nv\n",
    "    -   Display name: OpenAI Key\n",
    "    -   Value type: Key vault\n",
    "    -   Select from Key Vault:\n",
    "        -   Subscription: 사용 중인 Azure 구독\n",
    "        -   Key vault: secu-ai-kv 선택\n",
    "        -   Secret: openai-key 선택\n",
    "    -   Managed identity: System-assigned\n",
    "4.  Create\n",
    "\n",
    "**APIM Backend 설정 (Azure Portal):**\n",
    "\n",
    "1.  API Management 인스턴스 (secu-ai-apim)로 이동합니다.\n",
    "2.  \"Backends\"를 클릭하고 \"+ Add\"를 클릭합니다.\n",
    "3.  다음 정보를 입력합니다.\n",
    "    -   Backend id: openai-backend\n",
    "    -   Backend type: Custom URL\n",
    "    -   Runtime URL: `https://secu-ai-account.openai.azure.com/openai` (OpenAI 엔드포인트)\n",
    "    -   Authorization:\n",
    "        -   Add header:\n",
    "            -   Name: api-key\n",
    "            -   Value: {{openai-key-nv}} (Named Value 사용)\n",
    "4.  \"Create\"를 클릭합니다.\n",
    "\n",
    "**APIM API 설정 (Azure Portal):**\n",
    "\n",
    "\\[APIM 설정 가이드\\]의 \"API Import instructions\" 섹션을 참고하여 OpenAI API를 APIM에 가져옵니다.\n",
    "\n",
    "-   Completions OpenAPI spec URL: `https://raw.githubusercontent.com/Azure/azure-rest-api-specs/main/specification/cognitiveservices/data-plane/AzureOpenAI/inference/stable/2023-05-15/inference.json`\n",
    "\n",
    "Import 후 Operation을 Portal에서 테스트할 수 있습니다.\n"
   ]
  },
  {
   "cell_type": "markdown",
   "metadata": {},
   "source": [
    "**Log Analytics 쿼리 예제:**\n",
    "\n",
    "\\[log analytics 가이드\\]에 제공된 쿼리 예제를 참고하여 Log Analytics에서 APIM 요청 로그를 분석할 수 있습니다."
   ]
  },
  {
   "cell_type": "markdown",
   "metadata": {},
   "source": [
    "### 3단계: 테스트 환경 구성\n",
    "\n",
    "#### 3.1 Virtual Machine (Onprem VNET에서 테스트 목적)\n",
    "\n",
    "**Azure Portal:**\n",
    "\n",
    "1.  \"Create a resource\"에서 \"Virtual machine\"을 검색하여 선택하고 \"Create\"를 클릭합니다.\n",
    "2.  다음 정보를 입력합니다.\n",
    "    -   Subscription: Azure 구독, Resource group: \"secu-ai-workshop\"\n",
    "    -   Virtual machine name: \"onprem-vm\", Region: \"Korea Central\"\n",
    "    -   Image: Ubuntu Server 20.04 LTS - Gen2\n",
    "    -   Size: Standard_B2s (또는 적절한 크기)\n",
    "    -   Username: 관리자 계정 이름\n",
    "    -   Authentication type: SSH public key\n",
    "        -   SSH public key source: Generate new key pair, Key pair name: onprem-vm-key\n",
    "    -   Public inbound ports: None\n",
    "    -   Networking: Virtual network: onprem-vnet, Subnet: onprem-subnet, Public IP: None\n",
    "1.  \"Review + create\"를 클릭하고 \"Create\"를 클릭합니다."
   ]
  },
  {
   "cell_type": "code",
   "execution_count": 64,
   "metadata": {},
   "outputs": [],
   "source": [
    "# 변수 설정\n",
    "VM_NAME=\"onprem-vm\"\n",
    "VM_IMAGE=\"Ubuntu2404\"\n",
    "VM_SIZE=\"Standard_B2s\" # 필요에 따라 변경\n",
    "VM_ADMIN_USERNAME=\"adminuser\"\n",
    "VM_ADMIN_PASSWORD=\"adminpassword1!\" # 필요에 따라 변경"
   ]
  },
  {
   "cell_type": "code",
   "execution_count": null,
   "metadata": {},
   "outputs": [],
   "source": [
    "# VM 생성 (패스워드 인증 방식)\n",
    "\n",
    "!az vm create \\\n",
    "    --name $VM_NAME \\\n",
    "    --resource-group $RESOURCE_GROUP \\\n",
    "    --image $VM_IMAGE \\\n",
    "    --size $VM_SIZE \\\n",
    "    --vnet-name $ONPREM_VNET_NAME \\\n",
    "    --subnet $ONPREM_SUBNET_NAME \\\n",
    "    --admin-username $VM_ADMIN_USERNAME \\\n",
    "    --admin-password $VM_ADMIN_PASSWORD \\\n",
    "    --authentication-type password"
   ]
  },
  {
   "cell_type": "markdown",
   "metadata": {},
   "source": [
    "### 3.2 Bastion (Onprem VNET)\n",
    "**Azure Portal:**\n",
    "\n",
    "1.  Onprem VNET (\"onprem-vnet\") - \"Settings\" - \"Bastion\" - \"Configure manually\"\n",
    "2.  정보 입력:\n",
    "    * Name: onprem-bastion\n",
    "    * Tier: Basic\n",
    "    * Instance count: 1\n",
    "    * Virtual Network: onprem-vnet\n",
    "    * subnet: AzureBastionSubnet를 192.168.2.0/24로 생성\n",
    "    * Public IP Address: 새로 생성 후 이름 입력"
   ]
  },
  {
   "cell_type": "code",
   "execution_count": null,
   "metadata": {},
   "outputs": [],
   "source": [
    "# Bastion Subnet 생성\n",
    "!az network vnet subnet create \\\n",
    "    --name AzureBastionSubnet \\\n",
    "    --resource-group $RESOURCE_GROUP \\\n",
    "    --vnet-name $ONPREM_VNET_NAME \\\n",
    "    --address-prefix 192.168.2.0/24"
   ]
  },
  {
   "cell_type": "code",
   "execution_count": 69,
   "metadata": {},
   "outputs": [],
   "source": [
    "# Bastion Public IP 생성\n",
    "BASTION_PIP_NAME=\"onprem-bastion-pip\"\n",
    "BASTION_NAME=\"onprem-bastion\""
   ]
  },
  {
   "cell_type": "code",
   "execution_count": null,
   "metadata": {},
   "outputs": [],
   "source": [
    "# Bastion Public IP 생성\n",
    "!az network public-ip create \\\n",
    "    --name $BASTION_PIP_NAME \\\n",
    "    --resource-group $RESOURCE_GROUP \\\n",
    "    --location $LOCATION \\\n",
    "    --sku Standard"
   ]
  },
  {
   "cell_type": "code",
   "execution_count": null,
   "metadata": {},
   "outputs": [],
   "source": [
    "# Bastion 생성\n",
    "\n",
    "!az network bastion create \\\n",
    "    --name $BASTION_NAME \\\n",
    "    --public-ip-address $BASTION_PIP_NAME \\\n",
    "    --resource-group $RESOURCE_GROUP \\\n",
    "    --vnet-name $ONPREM_VNET_NAME \\\n",
    "    --location $LOCATION"
   ]
  },
  {
   "cell_type": "markdown",
   "metadata": {},
   "source": [
    "### 3.3 OpenAI API 호출 테스트\n",
    "\n",
    "1.  Bastion을 통해 On-Prem VM에 접속 (Azure Portal):\n",
    "    -   onprem-vm - \"Connect\" - \"Bastion\" 선택\n",
    "    -   username, Authentication Type(from Azure Bastion), Private Key from Local File을 선택하고 다운로드 받은 키 업로드\n",
    "    -   Connect\n",
    "2.  On-Prem VM에서 APIM Private Endpoint를 통해 OpenAI API 호출 (curl 사용):"
   ]
  },
  {
   "cell_type": "code",
   "execution_count": null,
   "metadata": {},
   "outputs": [],
   "source": [
    "!az apim show \\\n",
    "  --name $APIM_NAME \\\n",
    "  --resource-group $RESOURCE_GROUP \\\n",
    "  --query \"gatewayUrl\" \\\n",
    "  --output tsv\n"
   ]
  },
  {
   "cell_type": "code",
   "execution_count": null,
   "metadata": {},
   "outputs": [],
   "source": [
    "!az apim subscription list-keys"
   ]
  },
  {
   "cell_type": "code",
   "execution_count": null,
   "metadata": {},
   "outputs": [],
   "source": [
    "!az apim subscription list \\\n",
    "  --resource-group $RESOURCE_GROUP \\\n",
    "  --service-name $APIM_NAME \\\n",
    "  --query \"[0].id\" \\\n",
    "  --output tsv"
   ]
  },
  {
   "cell_type": "code",
   "execution_count": null,
   "metadata": {},
   "outputs": [],
   "source": [
    "curl --request POST \\\n",
    "    --url \"https://secu-ai-apim-1.azure-api.net/openapis/deployments/gpt-4o/chat/completions?api-version=2024-02-01\" \\\n",
    "    --header \"api-key: 8c0a3292cfea444485a0eebc10add7f7\" \\\n",
    "    --header \"Content-Type: application/json\" \\\n",
    "    --data '{\"messages\":[{\"role\":\"system\",\"content\":\"You are a helpful assistant that provides detailed information about Microsoft Azure.\"},{\"role\":\"user\",\"content\":\"How can I leverage Microsoft Azure across different business scenarios?\"}]}'"
   ]
  },
  {
   "cell_type": "code",
   "execution_count": null,
   "metadata": {},
   "outputs": [],
   "source": [
    "curl --request POST --url \"https://secu-ai-apim-1.azure-api.net/apicall/deployments/gpt-4o/chat/completions?api-version=2024-02-01\" --header \"api-key: d65e4cd35b034675970a652e34a0b9c7\" --header \"Content-Type: application/json\" --data '{\"messages\":[{\"role\":\"system\",\"content\":\"You are a helpful assistant that provides detailed information about Microsoft Azure.\"},{\"role\":\"user\",\"content\":\"How can I leverage Microsoft Azure across different business scenarios?\"}]}'"
   ]
  },
  {
   "cell_type": "code",
   "execution_count": null,
   "metadata": {},
   "outputs": [],
   "source": [
    "# APIM 엔드포인트 확인 (Azure Portal에서 확인)\n",
    "APIM_ENDPOINT=\"https://secu-ai-apim.privatelink.azure-api.net/\"\n",
    "\n",
    "# OpenAI API 호출 (예: Completions)\n",
    "curl $APIM_ENDPOINT/openai/deployments/gpt-4o/completions?api-version=2023-05-15 \\\n",
    "  -H \"Content-Type: application/json\" \\\n",
    "  -H \"api-key: $(az keyvault secret show --vault-name $KEY_VAULT_NAME --name openai-key --query value -o tsv)\" \\\n",
    "  -d '{\n",
    "    \"prompt\": \"The quick brown fox jumps over the lazy dog.\",\n",
    "    \"max_tokens\": 5\n",
    "  }'"
   ]
  },
  {
   "cell_type": "markdown",
   "metadata": {},
   "source": [
    "**curl 요청 설명:**\n",
    "\n",
    "    -   $APIM_ENDPOINT/openai/deployments/gpt-4o/completions?api-version=2023-05-15: APIM을 통해 OpenAI Completions API 호출 URL.\n",
    "    -   -H \"Content-Type: application/json\": 요청 본문 JSON 형식.\n",
    "    -   -H \"api-key: $(az keyvault secret show ...)\": Key Vault에서 가져온 OpenAI API 키를 헤더에 추가.\n",
    "    -   -d '{ ... }': API 요청 본문 (prompt, max_tokens 등)."
   ]
  },
  {
   "cell_type": "markdown",
   "metadata": {},
   "source": [
    "### 3.4 Log Analytics에서 APIM을 통과한 OpenAI API 호출 결과 모니터링\n",
    "\n",
    "**Azure Portal에서 Log Analytics 작업 영역(secu-ai-log)으로 이동**\n",
    "\n",
    "    -   \"Logs\" 블레이드 선택\n",
    "    -   다음 쿼리 실행하여 APIM을 통해 들어온 OpenAI API 호출 결과 및 사용 토큰량 확인"
   ]
  },
  {
   "cell_type": "code",
   "execution_count": null,
   "metadata": {
    "vscode": {
     "languageId": "sql"
    }
   },
   "outputs": [],
   "source": [
    "ApiManagementGatewayLogs\n",
    "| where tolower(OperationId) in ('completions_create','chatcompletions_create')\n",
    "| where ResponseCode == '200'\n",
    "| extend modelkey = substring(parse_json(BackendResponseBody)['model'], 0, indexof(parse_json(BackendResponseBody)['model'], '-', 0, -1, 2))\n",
    "| extend model = tostring(parse_json(BackendResponseBody)['model'])\n",
    "| extend prompttokens = parse_json(parse_json(BackendResponseBody)['usage'])['prompt_tokens']\n",
    "| extend completiontokens = parse_json(parse_json(BackendResponseBody)['usage'])['completion_tokens']\n",
    "| extend totaltokens = parse_json(parse_json(BackendResponseBody)['usage'])['total_tokens']\n",
    "| extend ip = CallerIpAddress\n",
    "| where model != ''\n",
    "| summarize\n",
    "    sum(todecimal(prompttokens)),\n",
    "    sum(todecimal(completiontokens)),\n",
    "    sum(todecimal(totaltokens)),\n",
    "    avg(todecimal(totaltokens))\n",
    "    by ip, model\n"
   ]
  },
  {
   "cell_type": "code",
   "execution_count": null,
   "metadata": {
    "vscode": {
     "languageId": "sql"
    }
   },
   "outputs": [],
   "source": [
    "ApiManagementGatewayLogs\n",
    "| where tolower(OperationId) in ('completions_create','chatcompletions_create')\n",
    "| where ResponseCode  == '200'\n",
    "| extend model = tostring(parse_json(BackendResponseBody)['model'])\n",
    "| extend prompttokens = parse_json(parse_json(BackendResponseBody)['usage'])['prompt_tokens']\n",
    "| extend prompttext = substring(parse_json(parse_json(BackendResponseBody)['choices'])[0], 0, 100)"
   ]
  },
  {
   "cell_type": "markdown",
   "metadata": {},
   "source": [
    "**결과 확인**: curl 명령어가 정상 실행되면 OpenAI API로부터 응답(JSON)을 받음. 생성된 텍스트, 사용된 토큰 수 등 확인."
   ]
  },
  {
   "cell_type": "markdown",
   "metadata": {},
   "source": [
    "**이것으로 Azure Hub & Spoke 아키텍처를 활용하여 On-premise 환경에서 Azure OpenAI Service를 Private Endpoint를 통해 안전하게 호출하는 워크샵 구성을 완료했습니다.**"
   ]
  }
 ],
 "metadata": {
  "kernelspec": {
   "display_name": "Python 3",
   "language": "python",
   "name": "python3"
  },
  "language_info": {
   "codemirror_mode": {
    "name": "ipython",
    "version": 3
   },
   "file_extension": ".py",
   "mimetype": "text/x-python",
   "name": "python",
   "nbconvert_exporter": "python",
   "pygments_lexer": "ipython3",
   "version": "3.12.10"
  }
 },
 "nbformat": 4,
 "nbformat_minor": 2
}
