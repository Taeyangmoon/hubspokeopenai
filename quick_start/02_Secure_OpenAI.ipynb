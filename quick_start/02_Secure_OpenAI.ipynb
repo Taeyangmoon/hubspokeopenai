{
 "cells": [
  {
   "cell_type": "markdown",
   "metadata": {},
   "source": [
    "### 2단계: Azure 서비스 구성\n",
    "\n",
    "#### 2.1 Azure OpenAI Service (Private Endpoint)\n",
    "\n",
    "**Azure Portal:**\n",
    "\n",
    "1.  \"Create a resource\"에서 \"Azure OpenAI\"를 검색하여 선택하고 \"Create\"를 클릭합니다.\n",
    "2.  다음 정보를 입력합니다.\n",
    "    -   Subscription: 사용 중인 Azure 구독\n",
    "    -   Resource group: \"secu-ai-workshop\"\n",
    "    -   Region: \"Korea Central\"\n",
    "    -   Name: \"secu-ai-account\"\n",
    "    -   Pricing tier: Standard S0\n",
    "    -   ![](images/20250459-155902.png)\n",
    "3.  \"Next: Network\"를 클릭하고, \"Connectivity type\"을 \"Disabled, no networks can access this resource.\"로 선택합니다.\n",
    "    -   ![](images/20250404-160448.png)  \n",
    "5.  \"Add private endpoint\"를 클릭하고 다음을 수행합니다.\n",
    "    -   Name: \"secu-ai-pe\"\n",
    "    -   Location: \"Korea Central\"\n",
    "    -   Virtual Network: spoke1vnet\n",
    "    -   Subnet: privateendpoint\n",
    "    -   OK\n",
    "    -   ![](images/20250406-160601.png)\n",
    "6.  \"Review + create\"를 클릭하고 \"Create\"를 클릭합니다.\n",
    "7.  Azure OpenAI Service가 배포된 후 gpt-4o 모델 배포\n",
    "    -   배포된 secu-ai-account에서 Go to Azure AI Foundry portal을 클릭하여 이동\n",
    "    -   Deployments에서 \"Deploy model\"에서 \"Deploy base model\"을 선택\n",
    "    -   Model: gpt-4o 선택 후 버전 선택,\n",
    "    -   Deployment name을 입력하고 Create.\n",
    "    -   ![](images/20250416-161651.png)"
   ]
  },
  {
   "cell_type": "markdown",
   "metadata": {},
   "source": [
    "#### 2.2 Private DNS zones for Azure OpenAI\n",
    "\n",
    "**Azure Portal:**\n",
    "\n",
    "1. \"Private DNS zones\"를 검색합니다.\n",
    "2. 생성된 \"privatelink.openai.azure.com\"를 선택합니다.\n",
    "3. \"Virtual Network Links\"에서 \"+ Add\"를 클릭합니다.\n",
    "4. 다음을 입력합니다.\n",
    "   -   Link name: \"onprem-vnet-link\"\n",
    "   -   Virtual Network: onprem-vnet\n",
    "   -   ![](images/20250444-114425.png)\n",
    "5. \"Create\" 버튼을 클릭합니다.\n",
    "6. 동일하게 hubvnet, spoke2vnet을 추가합니다."
   ]
  },
  {
   "cell_type": "code",
   "execution_count": 1,
   "metadata": {},
   "outputs": [],
   "source": [
    "# 기존 변수 설정\n",
    "RESOURCE_GROUP=\"secu-ai-workshop\"\n",
    "LOCATION=\"koreacentral\"\n",
    "\n",
    "ONPREM_VNET_NAME=\"onprem-vnet\"\n",
    "ONPREM_ADDRESS_PREFIX=\"192.168.0.0/16\"\n",
    "ONPREM_SUBNET_NAME=\"onprem-subnet\"\n",
    "ONPREM_SUBNET_PREFIX=\"192.168.1.0/24\"\n",
    "GATEWAY_SUBNET_NAME=\"GatewaySubnet\" # GatewaySubnet 이름은 고정\n",
    "GATEWAY_SUBNET_PREFIX=\"192.168.0.0/24\"\n",
    "\n",
    "HUB_VNET_NAME=\"hubvnet\"\n",
    "HUB_ADDRESS_PREFIX=\"10.0.0.0/16\"\n",
    "HUB_GATEWAY_SUBNET_PREFIX=\"10.0.0.0/24\"\n",
    "FIREWALL_SUBNET_NAME=\"AzureFirewallSubnet\" # AzureFirewallSubnet 이름은 고정\n",
    "FIREWALL_SUBNET_PREFIX=\"10.0.1.0/26\"\n",
    "DMZ_SUBNET_NAME=\"dmz\"\n",
    "DMZ_SUBNET_PREFIX=\"10.0.2.0/24\"\n",
    "\n",
    "SPOKE1_VNET_NAME=\"spoke1vnet\"\n",
    "SPOKE1_ADDRESS_PREFIX=\"10.1.0.0/16\"\n",
    "SPOKE1_SUBNET_NAME=\"spoke1subnet\"\n",
    "SPOKE1_SUBNET_PREFIX=\"10.1.0.0/24\"\n",
    "SPOKE1_PE_SUBNET_NAME=\"privateendpoint\"\n",
    "SPOKE1_PE_SUBNET_PREFIX=\"10.1.1.0/24\"\n",
    "\n",
    "SPOKE2_VNET_NAME=\"spoke2vnet\"\n",
    "SPOKE2_ADDRESS_PREFIX=\"10.2.0.0/16\"\n",
    "SPOKE2_SUBNET_NAME=\"spoke2subnet\"\n",
    "SPOKE2_SUBNET_PREFIX=\"10.2.0.0/24\""
   ]
  },
  {
   "cell_type": "code",
   "execution_count": 4,
   "metadata": {},
   "outputs": [],
   "source": [
    "# Azure OpenAI 관련 변수 설정\n",
    "OPENAI_NAME=\"secu-ai-account1\"\n",
    "OPENAI_PE_NAME=\"secu-ai-pe\"\n",
    "OPENAI_PRIVATE_DNS_ZONE=\"privatelink.openai.azure.com\""
   ]
  },
  {
   "cell_type": "code",
   "execution_count": null,
   "metadata": {},
   "outputs": [],
   "source": [
    "# Azure OpenAI account 생성\n",
    "!az cognitiveservices account create \\\n",
    "    --name $OPENAI_NAME \\\n",
    "    --custom-domain $OPENAI_NAME \\\n",
    "    --resource-group $RESOURCE_GROUP \\\n",
    "    --location $LOCATION \\\n",
    "    --kind OpenAI \\\n",
    "    --sku s0"
   ]
  },
  {
   "cell_type": "code",
   "execution_count": null,
   "metadata": {},
   "outputs": [],
   "source": [
    "# Azure OpenAI account의 Private Endpoint 생성\n",
    "OPENAI_RESOURCE_ID=!az cognitiveservices account show --name $OPENAI_NAME --resource-group $RESOURCE_GROUP --query id -o tsv\n",
    "OPENAI_RESOURCE_ID=OPENAI_RESOURCE_ID[0].strip()\n",
    "!echo $OPENAI_RESOURCE_ID"
   ]
  },
  {
   "cell_type": "code",
   "execution_count": null,
   "metadata": {},
   "outputs": [],
   "source": [
    "\n",
    "# Private Endpoint 생성\n",
    "!az network private-endpoint create \\\n",
    "    --name $OPENAI_PE_NAME \\\n",
    "    --resource-group $RESOURCE_GROUP \\\n",
    "    --vnet-name $SPOKE1_VNET_NAME \\\n",
    "    --subnet $SPOKE1_PE_SUBNET_NAME \\\n",
    "    --private-connection-resource-id $OPENAI_RESOURCE_ID \\\n",
    "    --group-ids account \\\n",
    "    --connection-name openai-connection \\\n",
    "    --location $LOCATION\n"
   ]
  },
  {
   "cell_type": "code",
   "execution_count": null,
   "metadata": {},
   "outputs": [],
   "source": [
    "# Private DNS Zone 생성 (privatelink.openai.azure.com)\n",
    "!az network private-dns zone create \\\n",
    "    --name $OPENAI_PRIVATE_DNS_ZONE \\\n",
    "    --resource-group $RESOURCE_GROUP"
   ]
  },
  {
   "cell_type": "code",
   "execution_count": null,
   "metadata": {},
   "outputs": [],
   "source": [
    "# Private DNS Zone Link 생성 (Spoke1 VNET)\n",
    "!az network private-dns link vnet create \\\n",
    "    --name spoke1vnetDnsLink \\\n",
    "    --resource-group $RESOURCE_GROUP \\\n",
    "    --zone-name $OPENAI_PRIVATE_DNS_ZONE \\\n",
    "    --virtual-network $SPOKE1_VNET_NAME \\\n",
    "    --registration-enabled false"
   ]
  },
  {
   "cell_type": "code",
   "execution_count": null,
   "metadata": {},
   "outputs": [],
   "source": [
    "# Private DNS Zone Link 생성 (Onprem VNET)\n",
    "!az network private-dns link vnet create \\\n",
    "    --name onpremvnetDnsLink \\\n",
    "    --resource-group $RESOURCE_GROUP \\\n",
    "    --zone-name $OPENAI_PRIVATE_DNS_ZONE \\\n",
    "    --virtual-network $ONPREM_VNET_NAME \\\n",
    "    --registration-enabled false"
   ]
  },
  {
   "cell_type": "code",
   "execution_count": null,
   "metadata": {},
   "outputs": [],
   "source": [
    "# Private DNS Zone Link 생성 (Hub VNET)\n",
    "!az network private-dns link vnet create \\\n",
    "    --name hubvnetDnsLink \\\n",
    "    --resource-group $RESOURCE_GROUP \\\n",
    "    --zone-name $OPENAI_PRIVATE_DNS_ZONE \\\n",
    "    --virtual-network $HUB_VNET_NAME \\\n",
    "    --registration-enabled false"
   ]
  },
  {
   "cell_type": "code",
   "execution_count": null,
   "metadata": {},
   "outputs": [],
   "source": [
    "OPENAI_PRIVATE_DNS_ZONE_ID=!az network private-dns zone show --name $OPENAI_PRIVATE_DNS_ZONE --resource-group $RESOURCE_GROUP --query id -o tsv\n",
    "OPENAI_PRIVATE_DNS_ZONE_ID=OPENAI_PRIVATE_DNS_ZONE_ID[0].strip()\n",
    "!echo $OPENAI_PRIVATE_DNS_ZONE_ID"
   ]
  },
  {
   "cell_type": "code",
   "execution_count": null,
   "metadata": {},
   "outputs": [],
   "source": [
    "# private dns record set create\n",
    "!az network private-endpoint dns-zone-group create \\\n",
    "    -n \"privatelink.openai.azure.com\" \\\n",
    "    -g $RESOURCE_GROUP \\\n",
    "    --private-dns-zone $OPENAI_PRIVATE_DNS_ZONE \\\n",
    "    --endpoint-name $OPENAI_PE_NAME \\\n",
    "    --zone-name $OPENAI_PRIVATE_DNS_ZONE"
   ]
  },
  {
   "cell_type": "code",
   "execution_count": null,
   "metadata": {},
   "outputs": [],
   "source": [
    "# Azure OpenAI account에 모델 배포. GPT-4o 모델을 사용합니다.\n",
    "!az cognitiveservices account deployment create \\\n",
    "    --name $OPENAI_NAME \\\n",
    "    --resource-group $RESOURCE_GROUP \\\n",
    "    --deployment-name gpt-4o \\\n",
    "    --model-name gpt-4o \\\n",
    "    --model-version \"2024-08-06\" \\\n",
    "    --sku-capacity \"100\" \\\n",
    "    --sku-name \"GlobalStandard\" \\\n",
    "    --model-format \"OpenAI\""
   ]
  },
  {
   "cell_type": "code",
   "execution_count": null,
   "metadata": {},
   "outputs": [],
   "source": []
  },
  {
   "cell_type": "markdown",
   "metadata": {},
   "source": [
    "#### 2.3 Azure API Management (Private Endpoint)\n",
    "\n",
    "**Azure Portal:**\n",
    "\n",
    "1.  \"Create a resource\"에서 \"API Management\"를 검색하여 선택하고 \"Create\"를 클릭합니다.\n",
    "2.  다음 정보를 입력합니다.\n",
    "    -   Subscription: 사용 중인 Azure 구독\n",
    "    -   Resource group: \"secu-ai-workshop\"\n",
    "    -   Region: \"Korea Central\"\n",
    "    -   Name: \"secu-ai-apim\" (적당한 이름으로 변경)\n",
    "    -   Organization name: \"Contoso\" (자신의 조직 이름)\n",
    "    -   Administrator email: \"admin@example.com\" (자신의 이메일일)\n",
    "    -   Pricing tier: Developer (테스트 용도)\n",
    "    -   ![](images/20250427-162731.png)\n",
    "    -   Connectivity type: \"Private endpoint\"\n",
    "    -   ![](images/20250428-162840.png)\n",
    "    -   Name: \"apim-pe\"\n",
    "    -   Virtual Network: spoke1vnet\n",
    "    -   subnet: privateendpoint\n",
    "    -   ![](images/20250430-163034.png)\n",
    "    -   System assigned managed identity : Check\n",
    "    -   ![](images/20250431-163146.png)\n",
    "3.  \"Review + create\" 를 클릭하고 \"Create\"를 클릭합니다."
   ]
  },
  {
   "cell_type": "markdown",
   "metadata": {},
   "source": [
    "#### 2.4 Private DNS zones for Azure API Management\n",
    "\n",
    "**Azure Portal:**\n",
    "\n",
    "1. \"Private DNS zones\"를 검색합니다.\n",
    "2. 생성된 \"privatelink.azure-api.net\"를 선택합니다.\n",
    "3. \"Virtual Network Links\"에서 \"+ Add\"를 클릭합니다.\n",
    "4. 다음을 입력합니다.\n",
    "   -   Link name: \"onprem-vnet-link\"\n",
    "   -   Virtual Network: onprem-vnet\n",
    "   -   ![](images/20250444-114425.png)\n",
    "5. \"Create\" 버튼을 클릭합니다.\n",
    "6. 동일하게 hubvnet, spoke2vnet을 추가합니다."
   ]
  },
  {
   "cell_type": "markdown",
   "metadata": {},
   "source": [
    "#### 2.5 Azure API Management public access disable\n",
    "\n",
    "**Azure Portal:**\n",
    "\n",
    "1. Cloud Shell 아이콘을 클릭합니다.\n",
    "   -   ![](images/20250424145727.png)\n",
    "2. Cloud Shell에서 다음 명령어를 입력합니다.\n",
    "   -   az apim update --name (APIM NAME)  --resource-group (RESOURCE GROUP) --public-network-access false\n",
    "   -   예시 : az apim update --name secu-ai-apim  --resource-group secu-ai-workshop --public-network-access false\n",
    "   -   ![](images/20250424150037.png)"
   ]
  },
  {
   "cell_type": "code",
   "execution_count": 21,
   "metadata": {},
   "outputs": [],
   "source": [
    "# 변수 설정\n",
    "APIM_NAME=\"secu-ai-apim\"\n",
    "APIM_PE_NAME=\"apim-pe\"\n",
    "APIM_PRIVATE_DNS_ZONE=\"privatelink.azure-api.net\""
   ]
  },
  {
   "cell_type": "code",
   "execution_count": 19,
   "metadata": {},
   "outputs": [],
   "source": [
    "# APIM 생성을 위한 VNET Subnet ID 가져오기\n",
    "SPOKE1_VNET_ID=!az network vnet show --name $SPOKE1_VNET_NAME --resource-group $RESOURCE_GROUP --query id -o tsv\n",
    "SPOKE1_VNET_ID=SPOKE1_VNET_ID[0].strip()\n",
    "SPOKE1_PE_SUBNET_ID=!az network vnet subnet show --name $SPOKE1_PE_SUBNET_NAME --resource-group $RESOURCE_GROUP --vnet-name $SPOKE1_VNET_NAME --query id -o tsv\n",
    "SPOKE1_PE_SUBNET_ID=SPOKE1_PE_SUBNET_ID[0].strip()\n"
   ]
  },
  {
   "cell_type": "code",
   "execution_count": null,
   "metadata": {},
   "outputs": [],
   "source": [
    "# API Management 생성\n",
    "!az apim create \\\n",
    "    --name $APIM_NAME \\\n",
    "    --resource-group $RESOURCE_GROUP \\\n",
    "    --location $LOCATION \\\n",
    "    --publisher-name \"My Company\" \\\n",
    "    --publisher-email \"admin@mycompany.com\" \\\n",
    "    --sku-name Developer"
   ]
  },
  {
   "cell_type": "code",
   "execution_count": null,
   "metadata": {},
   "outputs": [],
   "source": [
    "# APIM에 Private Endpoint 생성을 위한 변수 설정정\n",
    "APIM_RESOURCE_ID=!az apim show --name $APIM_NAME --resource-group $RESOURCE_GROUP --query id -o tsv\n",
    "APIM_RESOURCE_ID=APIM_RESOURCE_ID[0].strip()\n",
    "!echo $APIM_RESOURCE_ID"
   ]
  },
  {
   "cell_type": "code",
   "execution_count": null,
   "metadata": {},
   "outputs": [],
   "source": [
    "# Private Endpoint 생성\n",
    "!az network private-endpoint create \\\n",
    "    --name $APIM_PE_NAME \\\n",
    "    --resource-group $RESOURCE_GROUP \\\n",
    "    --vnet-name $SPOKE1_VNET_NAME \\\n",
    "    --subnet $SPOKE1_PE_SUBNET_NAME \\\n",
    "    --private-connection-resource-id $APIM_RESOURCE_ID \\\n",
    "    --connection-name apim-connection \\\n",
    "    --location $LOCATION \\\n",
    "    --group-id Gateway \n"
   ]
  },
  {
   "cell_type": "code",
   "execution_count": null,
   "metadata": {},
   "outputs": [],
   "source": [
    "# APIM에 public endpoint을 사용하지 않도록 설정\n",
    "\n",
    "!az apim update --name $APIM_NAME  --resource-group $RESOURCE_GROUP --public-network-access false --no-wait"
   ]
  },
  {
   "cell_type": "code",
   "execution_count": null,
   "metadata": {},
   "outputs": [],
   "source": [
    "# Private DNS Zone 생성 (privatelink.azure-api.net)\n",
    "!az network private-dns zone create \\\n",
    "    --name $APIM_PRIVATE_DNS_ZONE \\\n",
    "    --resource-group $RESOURCE_GROUP"
   ]
  },
  {
   "cell_type": "code",
   "execution_count": null,
   "metadata": {},
   "outputs": [],
   "source": [
    "# Private DNS Zone Link 생성 (Spoke1 VNET)\n",
    "!az network private-dns link vnet create \\\n",
    "    --name spoke1vnetApimDnsLink \\\n",
    "    --resource-group $RESOURCE_GROUP \\\n",
    "    --zone-name $APIM_PRIVATE_DNS_ZONE \\\n",
    "    --virtual-network $SPOKE1_VNET_NAME \\\n",
    "    --registration-enabled false"
   ]
  },
  {
   "cell_type": "code",
   "execution_count": null,
   "metadata": {},
   "outputs": [],
   "source": [
    "# Private DNS Zone Link 생성 (Onprem VNET)\n",
    "!az network private-dns link vnet create \\\n",
    "    --name onpremvnetApimDnsLink \\\n",
    "    --resource-group $RESOURCE_GROUP \\\n",
    "    --zone-name $APIM_PRIVATE_DNS_ZONE \\\n",
    "    --virtual-network $ONPREM_VNET_NAME \\\n",
    "    --registration-enabled false"
   ]
  },
  {
   "cell_type": "code",
   "execution_count": null,
   "metadata": {},
   "outputs": [],
   "source": [
    "# Private DNS Zone Link 생성 (Hub VNET)\n",
    "!az network private-dns link vnet create \\\n",
    "    --name hubvnetApimDnsLink \\\n",
    "    --resource-group $RESOURCE_GROUP \\\n",
    "    --zone-name $APIM_PRIVATE_DNS_ZONE \\\n",
    "    --virtual-network $HUB_VNET_NAME \\\n",
    "    --registration-enabled false"
   ]
  },
  {
   "cell_type": "code",
   "execution_count": null,
   "metadata": {},
   "outputs": [],
   "source": [
    "# private dns record set create\n",
    "!az network private-endpoint dns-zone-group create \\\n",
    "    -n \"privatelink.azure-api.net\" \\\n",
    "    -g $RESOURCE_GROUP \\\n",
    "    --private-dns-zone $APIM_PRIVATE_DNS_ZONE \\\n",
    "    --endpoint-name $APIM_PE_NAME \\\n",
    "    --zone-name $OPENAI_PRIVATE_DNS_ZONE"
   ]
  },
  {
   "cell_type": "markdown",
   "metadata": {},
   "source": [
    "#### 2.6 Log Analytics (APIM 등 모니터링)\n",
    "\n",
    "**Azure Portal:**\n",
    "\n",
    "1.  \"Create a resource\"에서 \"Log Analytics workspace\"를 검색하여 선택하고 \"Create\"를 클릭합니다.\n",
    "2.  다음 정보를 입력합니다.\n",
    "    -   Subscription: 사용 중인 Azure 구독\n",
    "    -   Resource group: \"secu-ai-workshop\"\n",
    "    -   Name: \"secu-ai-law\"\n",
    "    -   Region: \"Korea Central\"\n",
    "    -   ![](images/20250434-163411.png)\n",
    "3.  \"Review + create\"를 클릭하고 \"Create\"를 클릭합니다."
   ]
  },
  {
   "cell_type": "code",
   "execution_count": 34,
   "metadata": {},
   "outputs": [],
   "source": [
    "# 변수 설정\n",
    "LOG_ANALYTICS_NAME=\"secu-ai-law\""
   ]
  },
  {
   "cell_type": "code",
   "execution_count": null,
   "metadata": {},
   "outputs": [],
   "source": [
    "# Log Analytics Workspace 생성\n",
    "!az monitor log-analytics workspace create \\\n",
    "    --name $LOG_ANALYTICS_NAME \\\n",
    "    --resource-group $RESOURCE_GROUP \\\n",
    "    --location $LOCATION"
   ]
  },
  {
   "cell_type": "markdown",
   "metadata": {},
   "source": [
    "#### 2.7 APIM 진단 로그 설정\n",
    "\n",
    "Azure Portal:\n",
    "\n",
    "1.  생성된 API Management service인 \"secu-ai-apim\"에서 \"monitoring\"의 \"Diagnostic settings\"로 들어가서 \"Add diagnostic setting\"을 클릭합니다.\n",
    "2.  다음 정보를 입력합니다.\n",
    "    -   Diagnostic setting name: \"apim-diagnostics\"\n",
    "    -   Logs와 Metrics의 모든 항목을 선택\n",
    "    -   Send to Log Anaytics workspace 항목 선택\n",
    "    -   Log Analytics workspace\" \"secu-ai-law\" 선택\n",
    "    -   ![](images/20250442-164227.png)\n",
    "3.  \"Save\" 버튼을 눌러 설정을 저장합니다."
   ]
  },
  {
   "cell_type": "code",
   "execution_count": null,
   "metadata": {},
   "outputs": [],
   "source": [
    "# Log Analytics Workspace ID 가져오기\n",
    "LOG_ANALYTICS_WORKSPACE_ID=!az monitor log-analytics workspace show --name $LOG_ANALYTICS_NAME --resource-group $RESOURCE_GROUP --query id -o tsv\n",
    "LOG_ANALYTICS_WORKSPACE_ID=LOG_ANALYTICS_WORKSPACE_ID[0].strip()\n",
    "!echo $LOG_ANALYTICS_WORKSPACE_ID\n"
   ]
  },
  {
   "cell_type": "code",
   "execution_count": 53,
   "metadata": {},
   "outputs": [],
   "source": [
    "LOGS=\"[{category:GatewayLogs,enabled:true}]\"\n",
    "METRICS=\"[{category:AllMetrics,enabled:true}]\""
   ]
  },
  {
   "cell_type": "code",
   "execution_count": null,
   "metadata": {},
   "outputs": [],
   "source": [
    "# APIM 진단 설정\n",
    "\n",
    "!az monitor diagnostic-settings create \\\n",
    "    --name apim-diagnostics \\\n",
    "    --resource $APIM_NAME \\\n",
    "    --resource-group $RESOURCE_GROUP \\\n",
    "    --resource-type Microsoft.ApiManagement/service \\\n",
    "    --workspace $LOG_ANALYTICS_WORKSPACE_ID \\\n",
    "    --logs $LOGS \\\n",
    "    --metrics $METRICS"
   ]
  },
  {
   "cell_type": "markdown",
   "metadata": {},
   "source": [
    "#### 2.8 APIM과 OpenAI Service 연결 및 Backend/API 설정 (CLI로 하지 않고 Azure Portal에서 설정정)\n",
    "\n",
    "**APIM APIs 설정 (Azure Portal):**\n",
    "\n",
    "1.  API Management 인스턴스 (secu-ai-apim)로 이동합니다.\n",
    "\n",
    "2.  \"APIs\"를 클릭하고 \"+ Add\"를 클릭하고 \"Azure OpenAI Service\"를 선택합니다.\n",
    "    -   ![](images/20250446-104637.png)\n",
    "\n",
    "3.  다음 정보를 입력합니다.\n",
    "\n",
    "    -   Azure OpenAI instance: secu-ai-account\n",
    "    -   Display name: openaiapi\n",
    "    -   Name: openaiapi\n",
    "4.  Create\n",
    "\n",
    "**APIM monitor 설정 (Azure Portal):**\n",
    "\n",
    "1.  API Management 인스턴스 (secu-ai-apim)로 이동합니다.\n",
    "2.  \"APIs\"를 클릭하고 생성된 \"openaiapi\"를 클릭합니다.\n",
    "3.  \"Setting\" 탭에서 Azure Monitor 탭을 클릭합니다.\n",
    "4.  \"Override global\"에 체크를 하고 \"Number of payload bytes to log\"에 \"8192\"를 입력합니다.\n",
    "    -   ![](images/20250410-111052.png)\n",
    "5.  \"Save\"버튼을 클릭합니다.\n"
   ]
  },
  {
   "cell_type": "markdown",
   "metadata": {},
   "source": [
    "### 3단계: 테스트 환경 구성\n",
    "\n",
    "#### 3.1 Virtual Machine (Onprem VNET에서 테스트 목적)\n",
    "\n",
    "**Azure Portal:**\n",
    "\n",
    "1.  \"Create a resource\"에서 \"Virtual machine\"을 검색하여 선택하고 \"Create\"를 클릭합니다.\n",
    "2.  다음 정보를 입력합니다.\n",
    "    -   Subscription: Azure 구독, Resource group: \"secu-ai-workshop\"\n",
    "    -   Virtual machine name: \"onprem-vm\", Region: \"Korea Central\"\n",
    "    -   Availability options: \"No Infrastructure redundancy required\"\n",
    "    -   Security type: \"Standard\"\n",
    "    -   Image: Ubuntu Server 24.04 LTS - x64 Gen2\n",
    "    -   Size: B2as_v2 (또는 적절한 크기)\n",
    "    -   ![](images/20250400-120039.png)\n",
    "    -   Authentication type: Password\n",
    "    -   Username: 관리자 계정 이름\n",
    "    -   Password: 비밀 번호\n",
    "    -   ![](images/20250413-121355.png)\n",
    "    -   Networking: Virtual network: onprem-vnet, Subnet: onprem-subnet, Public IP: None\n",
    "    -   ![](images/20250415-121506.png)\n",
    "3.  \"Review + create\"를 클릭하고 \"Create\"를 클릭합니다.\n",
    "4.  Bastion에서 Username과 VM Password를 입력하고 \"Connect\" 버튼을 눌러 VM의 콘솔에 들어갑니다.\n",
    "    -   ![](images/20250450-125042.png)"
   ]
  },
  {
   "cell_type": "code",
   "execution_count": 64,
   "metadata": {},
   "outputs": [],
   "source": [
    "# 변수 설정\n",
    "VM_NAME=\"onprem-vm\"\n",
    "VM_IMAGE=\"Ubuntu2404\"\n",
    "VM_SIZE=\"Standard_B2s\" # 필요에 따라 변경\n",
    "VM_ADMIN_USERNAME=\"adminuser\"\n",
    "VM_ADMIN_PASSWORD=\"adminpassword1!\" # 필요에 따라 변경"
   ]
  },
  {
   "cell_type": "code",
   "execution_count": null,
   "metadata": {},
   "outputs": [],
   "source": [
    "# VM 생성 (패스워드 인증 방식)\n",
    "\n",
    "!az vm create \\\n",
    "    --name $VM_NAME \\\n",
    "    --resource-group $RESOURCE_GROUP \\\n",
    "    --image $VM_IMAGE \\\n",
    "    --size $VM_SIZE \\\n",
    "    --vnet-name $ONPREM_VNET_NAME \\\n",
    "    --subnet $ONPREM_SUBNET_NAME \\\n",
    "    --admin-username $VM_ADMIN_USERNAME \\\n",
    "    --admin-password $VM_ADMIN_PASSWORD \\\n",
    "    --authentication-type password"
   ]
  },
  {
   "cell_type": "code",
   "execution_count": null,
   "metadata": {},
   "outputs": [],
   "source": [
    "# Bastion Subnet 생성\n",
    "!az network vnet subnet create \\\n",
    "    --name AzureBastionSubnet \\\n",
    "    --resource-group $RESOURCE_GROUP \\\n",
    "    --vnet-name $ONPREM_VNET_NAME \\\n",
    "    --address-prefix 192.168.2.0/24"
   ]
  },
  {
   "cell_type": "code",
   "execution_count": 69,
   "metadata": {},
   "outputs": [],
   "source": [
    "# Bastion Public IP 생성\n",
    "BASTION_PIP_NAME=\"onprem-bastion-pip\"\n",
    "BASTION_NAME=\"onprem-bastion\""
   ]
  },
  {
   "cell_type": "code",
   "execution_count": null,
   "metadata": {},
   "outputs": [],
   "source": [
    "# Bastion Public IP 생성\n",
    "!az network public-ip create \\\n",
    "    --name $BASTION_PIP_NAME \\\n",
    "    --resource-group $RESOURCE_GROUP \\\n",
    "    --location $LOCATION \\\n",
    "    --sku Standard"
   ]
  },
  {
   "cell_type": "code",
   "execution_count": null,
   "metadata": {},
   "outputs": [],
   "source": [
    "# Bastion 생성\n",
    "\n",
    "!az network bastion create \\\n",
    "    --name $BASTION_NAME \\\n",
    "    --public-ip-address $BASTION_PIP_NAME \\\n",
    "    --resource-group $RESOURCE_GROUP \\\n",
    "    --vnet-name $ONPREM_VNET_NAME \\\n",
    "    --location $LOCATION"
   ]
  },
  {
   "cell_type": "markdown",
   "metadata": {},
   "source": [
    "### 3.2 OpenAI API 호출 테스트\n",
    "\n",
    "**Azure Portal:**\n",
    "\n",
    "1.  API Management의 Subscription Key를 복사합니다. \n",
    "    -   API Management에서 Subscription으로 이동한 후 Built-in all-access subscription의 ...버튼을 누르고 \"Show/Hide Keys\"를 누르고 Primary Key의 Subscription Key를 복사합니다.\n",
    "    -   ![](images/20250424151740.png)\n",
    "2.  Bastion을 통해 On-Prem VM에 접속 (Azure Portal)\n",
    "    -   Virtual Machine 서비스로 이동하여 Onprem-vm을 선택합니다.\n",
    "    -   해당 VM에서 Connect를 누르고 Connect via Bastion을 클릭합니다.\n",
    "    -   ![](images/20250424153341.png)   \n",
    "    -   VM의 user와 password를 입력하여 browser 에서 VM으로 들어갑니다.\n",
    "3.  해당 VM에서 apim으로 api call을 합니다. \n",
    "    -   curl --request POST --url \"https://(APIM NAME).azure-api.net/openaiapi/deployments/gpt-4o/chat/completions?api-version=2024-02-01\" --header \"api-key: (APIM Subscription Key)\" --header \"Content-Type: application/json\" --data '{\"messages\":[{\"role\":\"system\",\"content\":\"You are a helpful assistant that provides detailed information about Microsoft Azure.\"},{\"role\":\"user\",\"content\":\"Azure VM 생성 절차를 알려줘\"}]}'\n",
    "    -   예시 : curl --request POST --url \"https://secu-ai-apim.azure-api.net/openaiapi/deployments/gpt-4o/chat/completions?api-version=2024-02-01\" --header \"api-key: 3401e23463cc456db1ebe16479081969\" --header \"Content-Type: application/json\" --data '{\"messages\":[{\"role\":\"system\",\"content\":\"You are a helpful assistant that provides detailed information about Microsoft Azure.\"},{\"role\":\"user\",\"content\":\"Azure VM 생성 절차를 알려줘\"}]}'"
   ]
  },
  {
   "cell_type": "markdown",
   "metadata": {},
   "source": [
    "### 3.4 Log Analytics에서 APIM을 통과한 OpenAI API 호출 결과 모니터링\n",
    "\n",
    "**Azure Portal에서 Log Analytics 작업 영역(secu-ai-log)으로 이동**\n",
    "\n",
    "1. Log Analytics Workspace에서 secu-ai-log를 선택\n",
    "    -   \"Logs\" 블레이드 선택\n",
    "    -   다음 쿼리들을 실행하여 APIM을 통해 들어온 OpenAI API 호출 결과 및 사용 토큰량 확인\n",
    "    -   ![](images/20250424154733.png)\n",
    "    -   ![](images/20250424154904.png) "
   ]
  },
  {
   "cell_type": "code",
   "execution_count": null,
   "metadata": {
    "vscode": {
     "languageId": "sql"
    }
   },
   "outputs": [],
   "source": [
    "ApiManagementGatewayLogs\n",
    "| where tolower(OperationId) in ('completions_create','chatcompletions_create')\n",
    "| where ResponseCode == '200'\n",
    "| extend modelkey = substring(parse_json(BackendResponseBody)['model'], 0, indexof(parse_json(BackendResponseBody)['model'], '-', 0, -1, 2))\n",
    "| extend model = tostring(parse_json(BackendResponseBody)['model'])\n",
    "| extend prompttokens = parse_json(parse_json(BackendResponseBody)['usage'])['prompt_tokens']\n",
    "| extend completiontokens = parse_json(parse_json(BackendResponseBody)['usage'])['completion_tokens']\n",
    "| extend totaltokens = parse_json(parse_json(BackendResponseBody)['usage'])['total_tokens']\n",
    "| extend ip = CallerIpAddress\n",
    "| where model != ''\n",
    "| summarize\n",
    "    sum(todecimal(prompttokens)),\n",
    "    sum(todecimal(completiontokens)),\n",
    "    sum(todecimal(totaltokens)),\n",
    "    avg(todecimal(totaltokens))\n",
    "    by ip, model\n"
   ]
  },
  {
   "cell_type": "code",
   "execution_count": null,
   "metadata": {
    "vscode": {
     "languageId": "sql"
    }
   },
   "outputs": [],
   "source": [
    "ApiManagementGatewayLogs\n",
    "| where tolower(OperationId) in ('completions_create','chatcompletions_create')\n",
    "| where ResponseCode  == '200'\n",
    "| extend model = tostring(parse_json(BackendResponseBody)['model'])\n",
    "| extend prompttokens = parse_json(parse_json(BackendResponseBody)['usage'])['prompt_tokens']\n",
    "| extend prompttext = substring(parse_json(parse_json(BackendResponseBody)['choices'])[0], 0, 100)"
   ]
  },
  {
   "cell_type": "markdown",
   "metadata": {},
   "source": [
    "**결과 확인**: curl 명령어가 정상 실행되면 OpenAI API로부터 응답(JSON)을 받음. 생성된 텍스트, 사용된 토큰 수 등 확인."
   ]
  },
  {
   "cell_type": "markdown",
   "metadata": {},
   "source": [
    "**이것으로 Azure Hub & Spoke 아키텍처를 활용하여 On-premise 환경에서 Azure OpenAI Service를 Private Endpoint를 통해 안전하게 호출하는 워크샵 구성을 완료했습니다.**"
   ]
  }
 ],
 "metadata": {
  "kernelspec": {
   "display_name": "Python 3",
   "language": "python",
   "name": "python3"
  },
  "language_info": {
   "codemirror_mode": {
    "name": "ipython",
    "version": 3
   },
   "file_extension": ".py",
   "mimetype": "text/x-python",
   "name": "python",
   "nbconvert_exporter": "python",
   "pygments_lexer": "ipython3",
   "version": "3.12.10"
  }
 },
 "nbformat": 4,
 "nbformat_minor": 2
}
